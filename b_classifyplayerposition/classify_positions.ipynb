{
 "cells": [
  {
   "cell_type": "markdown",
   "metadata": {},
   "source": [
    "<div style=\"border: thin solid black; padding: 5px\">\n",
    "\n",
    "# Part B - Classify player position\n",
    "\n",
    "- Train on data from FIFA 19. Predict the player_position variable using other skill statistics for\n",
    "players in the FIFA 20 Edition. Train on all players from FIFA 19\n",
    "- Graphically represent the predicted player_position for the players in Test Set\n",
    "\n",
    "### Instructions :\n",
    "1. Sofifa Id, URL, Wage, Salary, Name, Real face, URL variables cannot be used during the prediction or learning.\n",
    "2. The final score will be assigned using Classification accuracy\n",
    "\n",
    "### Test Set: \n",
    "Players from the following Clubs\n",
    "- FC Barcelona\n",
    "- FC Bayern München\n",
    "- Real Madrid\n",
    "- Paris Saint-Germain\n",
    "- Juventus\n",
    "- Atlético Madrid\n",
    "- Manchester City\n",
    "- Liverpool\n",
    "- Manchester United"
   ]
  },
  {
   "cell_type": "code",
   "execution_count": 1,
   "metadata": {},
   "outputs": [],
   "source": [
    "# settings\n",
    "import os\n",
    "import pathlib\n",
    "working_dir = pathlib.Path().absolute()\n",
    "os.chdir(working_dir)"
   ]
  },
  {
   "cell_type": "code",
   "execution_count": 2,
   "metadata": {},
   "outputs": [],
   "source": [
    "# import\n",
    "import numpy as np\n",
    "import pandas as pd\n",
    "import seaborn as sns\n",
    "import matplotlib\n",
    "import matplotlib.pyplot as plt\n",
    "%matplotlib inline\n",
    "\n",
    "from sklearn.linear_model import LogisticRegression\n",
    "\n",
    "from sklearn.preprocessing import StandardScaler\n",
    "from sklearn.compose import ColumnTransformer"
   ]
  },
  {
   "cell_type": "code",
   "execution_count": 3,
   "metadata": {},
   "outputs": [],
   "source": [
    "# load data\n",
    "fifa19_df = pd.read_csv('data/players_19.csv')"
   ]
  },
  {
   "cell_type": "code",
   "execution_count": 4,
   "metadata": {},
   "outputs": [
    {
     "data": {
      "text/html": [
       "<div>\n",
       "<style scoped>\n",
       "    .dataframe tbody tr th:only-of-type {\n",
       "        vertical-align: middle;\n",
       "    }\n",
       "\n",
       "    .dataframe tbody tr th {\n",
       "        vertical-align: top;\n",
       "    }\n",
       "\n",
       "    .dataframe thead th {\n",
       "        text-align: right;\n",
       "    }\n",
       "</style>\n",
       "<table border=\"1\" class=\"dataframe\">\n",
       "  <thead>\n",
       "    <tr style=\"text-align: right;\">\n",
       "      <th></th>\n",
       "      <th>sofifa_id</th>\n",
       "      <th>player_url</th>\n",
       "      <th>short_name</th>\n",
       "      <th>long_name</th>\n",
       "      <th>age</th>\n",
       "      <th>dob</th>\n",
       "      <th>height_cm</th>\n",
       "      <th>weight_kg</th>\n",
       "      <th>nationality</th>\n",
       "      <th>club</th>\n",
       "      <th>...</th>\n",
       "      <th>lwb</th>\n",
       "      <th>ldm</th>\n",
       "      <th>cdm</th>\n",
       "      <th>rdm</th>\n",
       "      <th>rwb</th>\n",
       "      <th>lb</th>\n",
       "      <th>lcb</th>\n",
       "      <th>cb</th>\n",
       "      <th>rcb</th>\n",
       "      <th>rb</th>\n",
       "    </tr>\n",
       "  </thead>\n",
       "  <tbody>\n",
       "    <tr>\n",
       "      <th>0</th>\n",
       "      <td>20801</td>\n",
       "      <td>https://sofifa.com/player/20801/c-ronaldo-dos-...</td>\n",
       "      <td>Cristiano Ronaldo</td>\n",
       "      <td>Cristiano Ronaldo dos Santos Aveiro</td>\n",
       "      <td>33</td>\n",
       "      <td>1985-02-05</td>\n",
       "      <td>187</td>\n",
       "      <td>83</td>\n",
       "      <td>Portugal</td>\n",
       "      <td>Juventus</td>\n",
       "      <td>...</td>\n",
       "      <td>65+3</td>\n",
       "      <td>61+3</td>\n",
       "      <td>61+3</td>\n",
       "      <td>61+3</td>\n",
       "      <td>65+3</td>\n",
       "      <td>61+3</td>\n",
       "      <td>53+3</td>\n",
       "      <td>53+3</td>\n",
       "      <td>53+3</td>\n",
       "      <td>61+3</td>\n",
       "    </tr>\n",
       "    <tr>\n",
       "      <th>1</th>\n",
       "      <td>158023</td>\n",
       "      <td>https://sofifa.com/player/158023/lionel-messi/...</td>\n",
       "      <td>L. Messi</td>\n",
       "      <td>Lionel Andrés Messi Cuccittini</td>\n",
       "      <td>31</td>\n",
       "      <td>1987-06-24</td>\n",
       "      <td>170</td>\n",
       "      <td>72</td>\n",
       "      <td>Argentina</td>\n",
       "      <td>FC Barcelona</td>\n",
       "      <td>...</td>\n",
       "      <td>63+2</td>\n",
       "      <td>61+2</td>\n",
       "      <td>61+2</td>\n",
       "      <td>61+2</td>\n",
       "      <td>63+2</td>\n",
       "      <td>58+2</td>\n",
       "      <td>47+2</td>\n",
       "      <td>47+2</td>\n",
       "      <td>47+2</td>\n",
       "      <td>58+2</td>\n",
       "    </tr>\n",
       "    <tr>\n",
       "      <th>2</th>\n",
       "      <td>190871</td>\n",
       "      <td>https://sofifa.com/player/190871/neymar-da-sil...</td>\n",
       "      <td>Neymar Jr</td>\n",
       "      <td>Neymar da Silva Santos Junior</td>\n",
       "      <td>26</td>\n",
       "      <td>1992-02-05</td>\n",
       "      <td>175</td>\n",
       "      <td>68</td>\n",
       "      <td>Brazil</td>\n",
       "      <td>Paris Saint-Germain</td>\n",
       "      <td>...</td>\n",
       "      <td>65+3</td>\n",
       "      <td>60+3</td>\n",
       "      <td>60+3</td>\n",
       "      <td>60+3</td>\n",
       "      <td>65+3</td>\n",
       "      <td>60+3</td>\n",
       "      <td>47+3</td>\n",
       "      <td>47+3</td>\n",
       "      <td>47+3</td>\n",
       "      <td>60+3</td>\n",
       "    </tr>\n",
       "    <tr>\n",
       "      <th>3</th>\n",
       "      <td>193080</td>\n",
       "      <td>https://sofifa.com/player/193080/david-de-gea-...</td>\n",
       "      <td>De Gea</td>\n",
       "      <td>David De Gea Quintana</td>\n",
       "      <td>27</td>\n",
       "      <td>1990-11-07</td>\n",
       "      <td>193</td>\n",
       "      <td>76</td>\n",
       "      <td>Spain</td>\n",
       "      <td>Manchester United</td>\n",
       "      <td>...</td>\n",
       "      <td>NaN</td>\n",
       "      <td>NaN</td>\n",
       "      <td>NaN</td>\n",
       "      <td>NaN</td>\n",
       "      <td>NaN</td>\n",
       "      <td>NaN</td>\n",
       "      <td>NaN</td>\n",
       "      <td>NaN</td>\n",
       "      <td>NaN</td>\n",
       "      <td>NaN</td>\n",
       "    </tr>\n",
       "    <tr>\n",
       "      <th>4</th>\n",
       "      <td>192985</td>\n",
       "      <td>https://sofifa.com/player/192985/kevin-de-bruy...</td>\n",
       "      <td>K. De Bruyne</td>\n",
       "      <td>Kevin De Bruyne</td>\n",
       "      <td>27</td>\n",
       "      <td>1991-06-28</td>\n",
       "      <td>181</td>\n",
       "      <td>70</td>\n",
       "      <td>Belgium</td>\n",
       "      <td>Manchester City</td>\n",
       "      <td>...</td>\n",
       "      <td>77+3</td>\n",
       "      <td>77+3</td>\n",
       "      <td>77+3</td>\n",
       "      <td>77+3</td>\n",
       "      <td>77+3</td>\n",
       "      <td>73+3</td>\n",
       "      <td>66+3</td>\n",
       "      <td>66+3</td>\n",
       "      <td>66+3</td>\n",
       "      <td>73+3</td>\n",
       "    </tr>\n",
       "  </tbody>\n",
       "</table>\n",
       "<p>5 rows × 104 columns</p>\n",
       "</div>"
      ],
      "text/plain": [
       "   sofifa_id                                         player_url  \\\n",
       "0      20801  https://sofifa.com/player/20801/c-ronaldo-dos-...   \n",
       "1     158023  https://sofifa.com/player/158023/lionel-messi/...   \n",
       "2     190871  https://sofifa.com/player/190871/neymar-da-sil...   \n",
       "3     193080  https://sofifa.com/player/193080/david-de-gea-...   \n",
       "4     192985  https://sofifa.com/player/192985/kevin-de-bruy...   \n",
       "\n",
       "          short_name                            long_name  age         dob  \\\n",
       "0  Cristiano Ronaldo  Cristiano Ronaldo dos Santos Aveiro   33  1985-02-05   \n",
       "1           L. Messi       Lionel Andrés Messi Cuccittini   31  1987-06-24   \n",
       "2          Neymar Jr        Neymar da Silva Santos Junior   26  1992-02-05   \n",
       "3             De Gea                David De Gea Quintana   27  1990-11-07   \n",
       "4       K. De Bruyne                      Kevin De Bruyne   27  1991-06-28   \n",
       "\n",
       "   height_cm  weight_kg nationality                 club  ...   lwb   ldm  \\\n",
       "0        187         83    Portugal             Juventus  ...  65+3  61+3   \n",
       "1        170         72   Argentina         FC Barcelona  ...  63+2  61+2   \n",
       "2        175         68      Brazil  Paris Saint-Germain  ...  65+3  60+3   \n",
       "3        193         76       Spain    Manchester United  ...   NaN   NaN   \n",
       "4        181         70     Belgium      Manchester City  ...  77+3  77+3   \n",
       "\n",
       "    cdm   rdm   rwb    lb   lcb    cb   rcb    rb  \n",
       "0  61+3  61+3  65+3  61+3  53+3  53+3  53+3  61+3  \n",
       "1  61+2  61+2  63+2  58+2  47+2  47+2  47+2  58+2  \n",
       "2  60+3  60+3  65+3  60+3  47+3  47+3  47+3  60+3  \n",
       "3   NaN   NaN   NaN   NaN   NaN   NaN   NaN   NaN  \n",
       "4  77+3  77+3  77+3  73+3  66+3  66+3  66+3  73+3  \n",
       "\n",
       "[5 rows x 104 columns]"
      ]
     },
     "execution_count": 4,
     "metadata": {},
     "output_type": "execute_result"
    }
   ],
   "source": [
    "fifa19_df.head()"
   ]
  },
  {
   "cell_type": "code",
   "execution_count": 5,
   "metadata": {},
   "outputs": [
    {
     "name": "stdout",
     "output_type": "stream",
     "text": [
      "<class 'pandas.core.frame.DataFrame'>\n",
      "RangeIndex: 17770 entries, 0 to 17769\n",
      "Columns: 104 entries, sofifa_id to rb\n",
      "dtypes: float64(16), int64(11), object(77)\n",
      "memory usage: 14.1+ MB\n"
     ]
    }
   ],
   "source": [
    "fifa19_df.info()\n"
   ]
  },
  {
   "cell_type": "code",
   "execution_count": 6,
   "metadata": {},
   "outputs": [],
   "source": [
    "fifa19_sel = fifa19_df[['age', 'height_cm', 'weight_kg','preferred_foot', 'value_eur', 'wage_eur', 'release_clause_eur', 'shooting', 'defending', 'physic', 'club', 'overall', 'player_positions', 'team_position']]"
   ]
  },
  {
   "cell_type": "code",
   "execution_count": 7,
   "metadata": {
    "scrolled": true
   },
   "outputs": [
    {
     "data": {
      "text/html": [
       "<div>\n",
       "<style scoped>\n",
       "    .dataframe tbody tr th:only-of-type {\n",
       "        vertical-align: middle;\n",
       "    }\n",
       "\n",
       "    .dataframe tbody tr th {\n",
       "        vertical-align: top;\n",
       "    }\n",
       "\n",
       "    .dataframe thead th {\n",
       "        text-align: right;\n",
       "    }\n",
       "</style>\n",
       "<table border=\"1\" class=\"dataframe\">\n",
       "  <thead>\n",
       "    <tr style=\"text-align: right;\">\n",
       "      <th></th>\n",
       "      <th>age</th>\n",
       "      <th>height_cm</th>\n",
       "      <th>weight_kg</th>\n",
       "      <th>preferred_foot</th>\n",
       "      <th>value_eur</th>\n",
       "      <th>wage_eur</th>\n",
       "      <th>release_clause_eur</th>\n",
       "      <th>shooting</th>\n",
       "      <th>defending</th>\n",
       "      <th>physic</th>\n",
       "      <th>club</th>\n",
       "      <th>overall</th>\n",
       "      <th>player_positions</th>\n",
       "      <th>team_position</th>\n",
       "    </tr>\n",
       "  </thead>\n",
       "  <tbody>\n",
       "    <tr>\n",
       "      <th>0</th>\n",
       "      <td>33</td>\n",
       "      <td>187</td>\n",
       "      <td>83</td>\n",
       "      <td>Right</td>\n",
       "      <td>77000000</td>\n",
       "      <td>405000</td>\n",
       "      <td>127100000.0</td>\n",
       "      <td>93.0</td>\n",
       "      <td>35.0</td>\n",
       "      <td>79.0</td>\n",
       "      <td>Juventus</td>\n",
       "      <td>94</td>\n",
       "      <td>ST, LW</td>\n",
       "      <td>LW</td>\n",
       "    </tr>\n",
       "    <tr>\n",
       "      <th>1</th>\n",
       "      <td>31</td>\n",
       "      <td>170</td>\n",
       "      <td>72</td>\n",
       "      <td>Left</td>\n",
       "      <td>110500000</td>\n",
       "      <td>565000</td>\n",
       "      <td>226500000.0</td>\n",
       "      <td>91.0</td>\n",
       "      <td>32.0</td>\n",
       "      <td>61.0</td>\n",
       "      <td>FC Barcelona</td>\n",
       "      <td>94</td>\n",
       "      <td>CF, RW, ST</td>\n",
       "      <td>RW</td>\n",
       "    </tr>\n",
       "    <tr>\n",
       "      <th>2</th>\n",
       "      <td>26</td>\n",
       "      <td>175</td>\n",
       "      <td>68</td>\n",
       "      <td>Right</td>\n",
       "      <td>118500000</td>\n",
       "      <td>290000</td>\n",
       "      <td>228100000.0</td>\n",
       "      <td>84.0</td>\n",
       "      <td>32.0</td>\n",
       "      <td>59.0</td>\n",
       "      <td>Paris Saint-Germain</td>\n",
       "      <td>92</td>\n",
       "      <td>LW, CAM</td>\n",
       "      <td>CAM</td>\n",
       "    </tr>\n",
       "    <tr>\n",
       "      <th>4</th>\n",
       "      <td>27</td>\n",
       "      <td>181</td>\n",
       "      <td>70</td>\n",
       "      <td>Right</td>\n",
       "      <td>102000000</td>\n",
       "      <td>355000</td>\n",
       "      <td>196400000.0</td>\n",
       "      <td>86.0</td>\n",
       "      <td>60.0</td>\n",
       "      <td>78.0</td>\n",
       "      <td>Manchester City</td>\n",
       "      <td>91</td>\n",
       "      <td>CAM, CM</td>\n",
       "      <td>RCM</td>\n",
       "    </tr>\n",
       "    <tr>\n",
       "      <th>5</th>\n",
       "      <td>32</td>\n",
       "      <td>184</td>\n",
       "      <td>82</td>\n",
       "      <td>Right</td>\n",
       "      <td>51000000</td>\n",
       "      <td>380000</td>\n",
       "      <td>104600000.0</td>\n",
       "      <td>63.0</td>\n",
       "      <td>91.0</td>\n",
       "      <td>84.0</td>\n",
       "      <td>Real Madrid</td>\n",
       "      <td>91</td>\n",
       "      <td>CB</td>\n",
       "      <td>LCB</td>\n",
       "    </tr>\n",
       "  </tbody>\n",
       "</table>\n",
       "</div>"
      ],
      "text/plain": [
       "   age  height_cm  weight_kg preferred_foot  value_eur  wage_eur  \\\n",
       "0   33        187         83          Right   77000000    405000   \n",
       "1   31        170         72           Left  110500000    565000   \n",
       "2   26        175         68          Right  118500000    290000   \n",
       "4   27        181         70          Right  102000000    355000   \n",
       "5   32        184         82          Right   51000000    380000   \n",
       "\n",
       "   release_clause_eur  shooting  defending  physic                 club  \\\n",
       "0         127100000.0      93.0       35.0    79.0             Juventus   \n",
       "1         226500000.0      91.0       32.0    61.0         FC Barcelona   \n",
       "2         228100000.0      84.0       32.0    59.0  Paris Saint-Germain   \n",
       "4         196400000.0      86.0       60.0    78.0      Manchester City   \n",
       "5         104600000.0      63.0       91.0    84.0          Real Madrid   \n",
       "\n",
       "   overall player_positions team_position  \n",
       "0       94           ST, LW            LW  \n",
       "1       94       CF, RW, ST            RW  \n",
       "2       92          LW, CAM           CAM  \n",
       "4       91          CAM, CM           RCM  \n",
       "5       91               CB           LCB  "
      ]
     },
     "execution_count": 7,
     "metadata": {},
     "output_type": "execute_result"
    }
   ],
   "source": [
    "# drop all rows with NaNs\n",
    "fifa19_sel_cleaned = fifa19_sel.dropna()\n",
    "fifa19_sel_cleaned.head()"
   ]
  },
  {
   "cell_type": "code",
   "execution_count": 8,
   "metadata": {},
   "outputs": [
    {
     "data": {
      "text/plain": [
       "0            ST, LW\n",
       "1        CF, RW, ST\n",
       "2           LW, CAM\n",
       "4           CAM, CM\n",
       "5                CB\n",
       "            ...    \n",
       "17765       CM, CDM\n",
       "17766            ST\n",
       "17767            CM\n",
       "17768            RB\n",
       "17769            CM\n",
       "Name: player_positions, Length: 14396, dtype: object"
      ]
     },
     "execution_count": 8,
     "metadata": {},
     "output_type": "execute_result"
    }
   ],
   "source": [
    "fifa19_sel_cleaned.player_positions"
   ]
  },
  {
   "cell_type": "code",
   "execution_count": 9,
   "metadata": {},
   "outputs": [],
   "source": [
    "def create_position(df):\n",
    "    df_new = df.copy()\n",
    "    for i in ['ST', 'CF', 'LF', 'LS', 'LW', 'RF', 'RS', 'RW']:\n",
    "      df_new.loc[df.team_position == i , 'position'] = 'Strikers'\n",
    "\n",
    "    for i in ['CAM', 'CDM', 'LCM', 'CM', 'LAM', 'LDM', 'LM', 'RAM', 'RCM', 'RDM', 'RM']:\n",
    "      df_new.loc[df.team_position == i , 'position'] = 'Midfielder'\n",
    "\n",
    "    for i in ['CB', 'LB', 'LCB', 'LWB', 'RB', 'RCB', 'RWB']:\n",
    "      df_new.loc[df.team_position == i , 'position'] = 'Defender'\n",
    "    \n",
    "    return df_new"
   ]
  },
  {
   "cell_type": "code",
   "execution_count": 10,
   "metadata": {},
   "outputs": [
    {
     "data": {
      "text/html": [
       "<div>\n",
       "<style scoped>\n",
       "    .dataframe tbody tr th:only-of-type {\n",
       "        vertical-align: middle;\n",
       "    }\n",
       "\n",
       "    .dataframe tbody tr th {\n",
       "        vertical-align: top;\n",
       "    }\n",
       "\n",
       "    .dataframe thead th {\n",
       "        text-align: right;\n",
       "    }\n",
       "</style>\n",
       "<table border=\"1\" class=\"dataframe\">\n",
       "  <thead>\n",
       "    <tr style=\"text-align: right;\">\n",
       "      <th></th>\n",
       "      <th>age</th>\n",
       "      <th>height_cm</th>\n",
       "      <th>weight_kg</th>\n",
       "      <th>preferred_foot</th>\n",
       "      <th>value_eur</th>\n",
       "      <th>wage_eur</th>\n",
       "      <th>release_clause_eur</th>\n",
       "      <th>shooting</th>\n",
       "      <th>defending</th>\n",
       "      <th>physic</th>\n",
       "      <th>club</th>\n",
       "      <th>overall</th>\n",
       "      <th>player_positions</th>\n",
       "      <th>team_position</th>\n",
       "      <th>position</th>\n",
       "    </tr>\n",
       "  </thead>\n",
       "  <tbody>\n",
       "    <tr>\n",
       "      <th>0</th>\n",
       "      <td>33</td>\n",
       "      <td>187</td>\n",
       "      <td>83</td>\n",
       "      <td>Right</td>\n",
       "      <td>77000000</td>\n",
       "      <td>405000</td>\n",
       "      <td>127100000.0</td>\n",
       "      <td>93.0</td>\n",
       "      <td>35.0</td>\n",
       "      <td>79.0</td>\n",
       "      <td>Juventus</td>\n",
       "      <td>94</td>\n",
       "      <td>ST, LW</td>\n",
       "      <td>LW</td>\n",
       "      <td>Strikers</td>\n",
       "    </tr>\n",
       "    <tr>\n",
       "      <th>1</th>\n",
       "      <td>31</td>\n",
       "      <td>170</td>\n",
       "      <td>72</td>\n",
       "      <td>Left</td>\n",
       "      <td>110500000</td>\n",
       "      <td>565000</td>\n",
       "      <td>226500000.0</td>\n",
       "      <td>91.0</td>\n",
       "      <td>32.0</td>\n",
       "      <td>61.0</td>\n",
       "      <td>FC Barcelona</td>\n",
       "      <td>94</td>\n",
       "      <td>CF, RW, ST</td>\n",
       "      <td>RW</td>\n",
       "      <td>Strikers</td>\n",
       "    </tr>\n",
       "    <tr>\n",
       "      <th>2</th>\n",
       "      <td>26</td>\n",
       "      <td>175</td>\n",
       "      <td>68</td>\n",
       "      <td>Right</td>\n",
       "      <td>118500000</td>\n",
       "      <td>290000</td>\n",
       "      <td>228100000.0</td>\n",
       "      <td>84.0</td>\n",
       "      <td>32.0</td>\n",
       "      <td>59.0</td>\n",
       "      <td>Paris Saint-Germain</td>\n",
       "      <td>92</td>\n",
       "      <td>LW, CAM</td>\n",
       "      <td>CAM</td>\n",
       "      <td>Midfielder</td>\n",
       "    </tr>\n",
       "    <tr>\n",
       "      <th>4</th>\n",
       "      <td>27</td>\n",
       "      <td>181</td>\n",
       "      <td>70</td>\n",
       "      <td>Right</td>\n",
       "      <td>102000000</td>\n",
       "      <td>355000</td>\n",
       "      <td>196400000.0</td>\n",
       "      <td>86.0</td>\n",
       "      <td>60.0</td>\n",
       "      <td>78.0</td>\n",
       "      <td>Manchester City</td>\n",
       "      <td>91</td>\n",
       "      <td>CAM, CM</td>\n",
       "      <td>RCM</td>\n",
       "      <td>Midfielder</td>\n",
       "    </tr>\n",
       "    <tr>\n",
       "      <th>5</th>\n",
       "      <td>32</td>\n",
       "      <td>184</td>\n",
       "      <td>82</td>\n",
       "      <td>Right</td>\n",
       "      <td>51000000</td>\n",
       "      <td>380000</td>\n",
       "      <td>104600000.0</td>\n",
       "      <td>63.0</td>\n",
       "      <td>91.0</td>\n",
       "      <td>84.0</td>\n",
       "      <td>Real Madrid</td>\n",
       "      <td>91</td>\n",
       "      <td>CB</td>\n",
       "      <td>LCB</td>\n",
       "      <td>Defender</td>\n",
       "    </tr>\n",
       "    <tr>\n",
       "      <th>...</th>\n",
       "      <td>...</td>\n",
       "      <td>...</td>\n",
       "      <td>...</td>\n",
       "      <td>...</td>\n",
       "      <td>...</td>\n",
       "      <td>...</td>\n",
       "      <td>...</td>\n",
       "      <td>...</td>\n",
       "      <td>...</td>\n",
       "      <td>...</td>\n",
       "      <td>...</td>\n",
       "      <td>...</td>\n",
       "      <td>...</td>\n",
       "      <td>...</td>\n",
       "      <td>...</td>\n",
       "    </tr>\n",
       "    <tr>\n",
       "      <th>17765</th>\n",
       "      <td>19</td>\n",
       "      <td>180</td>\n",
       "      <td>72</td>\n",
       "      <td>Right</td>\n",
       "      <td>60000</td>\n",
       "      <td>1000</td>\n",
       "      <td>131000.0</td>\n",
       "      <td>32.0</td>\n",
       "      <td>46.0</td>\n",
       "      <td>49.0</td>\n",
       "      <td>Cork City</td>\n",
       "      <td>47</td>\n",
       "      <td>CM, CDM</td>\n",
       "      <td>SUB</td>\n",
       "      <td>NaN</td>\n",
       "    </tr>\n",
       "    <tr>\n",
       "      <th>17766</th>\n",
       "      <td>18</td>\n",
       "      <td>178</td>\n",
       "      <td>75</td>\n",
       "      <td>Right</td>\n",
       "      <td>60000</td>\n",
       "      <td>1000</td>\n",
       "      <td>125000.0</td>\n",
       "      <td>43.0</td>\n",
       "      <td>23.0</td>\n",
       "      <td>53.0</td>\n",
       "      <td>SpVgg Unterhaching</td>\n",
       "      <td>47</td>\n",
       "      <td>ST</td>\n",
       "      <td>RES</td>\n",
       "      <td>NaN</td>\n",
       "    </tr>\n",
       "    <tr>\n",
       "      <th>17767</th>\n",
       "      <td>20</td>\n",
       "      <td>181</td>\n",
       "      <td>64</td>\n",
       "      <td>Right</td>\n",
       "      <td>60000</td>\n",
       "      <td>1000</td>\n",
       "      <td>167000.0</td>\n",
       "      <td>35.0</td>\n",
       "      <td>44.0</td>\n",
       "      <td>52.0</td>\n",
       "      <td>Guangzhou R&amp;F FC</td>\n",
       "      <td>47</td>\n",
       "      <td>CM</td>\n",
       "      <td>LCM</td>\n",
       "      <td>Midfielder</td>\n",
       "    </tr>\n",
       "    <tr>\n",
       "      <th>17768</th>\n",
       "      <td>19</td>\n",
       "      <td>179</td>\n",
       "      <td>73</td>\n",
       "      <td>Right</td>\n",
       "      <td>40000</td>\n",
       "      <td>1000</td>\n",
       "      <td>66000.0</td>\n",
       "      <td>42.0</td>\n",
       "      <td>41.0</td>\n",
       "      <td>56.0</td>\n",
       "      <td>SpVgg Unterhaching</td>\n",
       "      <td>47</td>\n",
       "      <td>RB</td>\n",
       "      <td>SUB</td>\n",
       "      <td>NaN</td>\n",
       "    </tr>\n",
       "    <tr>\n",
       "      <th>17769</th>\n",
       "      <td>19</td>\n",
       "      <td>180</td>\n",
       "      <td>72</td>\n",
       "      <td>Right</td>\n",
       "      <td>50000</td>\n",
       "      <td>1000</td>\n",
       "      <td>88000.0</td>\n",
       "      <td>36.0</td>\n",
       "      <td>42.0</td>\n",
       "      <td>50.0</td>\n",
       "      <td>Derry City</td>\n",
       "      <td>47</td>\n",
       "      <td>CM</td>\n",
       "      <td>SUB</td>\n",
       "      <td>NaN</td>\n",
       "    </tr>\n",
       "  </tbody>\n",
       "</table>\n",
       "<p>14396 rows × 15 columns</p>\n",
       "</div>"
      ],
      "text/plain": [
       "       age  height_cm  weight_kg preferred_foot  value_eur  wage_eur  \\\n",
       "0       33        187         83          Right   77000000    405000   \n",
       "1       31        170         72           Left  110500000    565000   \n",
       "2       26        175         68          Right  118500000    290000   \n",
       "4       27        181         70          Right  102000000    355000   \n",
       "5       32        184         82          Right   51000000    380000   \n",
       "...    ...        ...        ...            ...        ...       ...   \n",
       "17765   19        180         72          Right      60000      1000   \n",
       "17766   18        178         75          Right      60000      1000   \n",
       "17767   20        181         64          Right      60000      1000   \n",
       "17768   19        179         73          Right      40000      1000   \n",
       "17769   19        180         72          Right      50000      1000   \n",
       "\n",
       "       release_clause_eur  shooting  defending  physic                 club  \\\n",
       "0             127100000.0      93.0       35.0    79.0             Juventus   \n",
       "1             226500000.0      91.0       32.0    61.0         FC Barcelona   \n",
       "2             228100000.0      84.0       32.0    59.0  Paris Saint-Germain   \n",
       "4             196400000.0      86.0       60.0    78.0      Manchester City   \n",
       "5             104600000.0      63.0       91.0    84.0          Real Madrid   \n",
       "...                   ...       ...        ...     ...                  ...   \n",
       "17765            131000.0      32.0       46.0    49.0            Cork City   \n",
       "17766            125000.0      43.0       23.0    53.0   SpVgg Unterhaching   \n",
       "17767            167000.0      35.0       44.0    52.0     Guangzhou R&F FC   \n",
       "17768             66000.0      42.0       41.0    56.0   SpVgg Unterhaching   \n",
       "17769             88000.0      36.0       42.0    50.0           Derry City   \n",
       "\n",
       "       overall player_positions team_position    position  \n",
       "0           94           ST, LW            LW    Strikers  \n",
       "1           94       CF, RW, ST            RW    Strikers  \n",
       "2           92          LW, CAM           CAM  Midfielder  \n",
       "4           91          CAM, CM           RCM  Midfielder  \n",
       "5           91               CB           LCB    Defender  \n",
       "...        ...              ...           ...         ...  \n",
       "17765       47          CM, CDM           SUB         NaN  \n",
       "17766       47               ST           RES         NaN  \n",
       "17767       47               CM           LCM  Midfielder  \n",
       "17768       47               RB           SUB         NaN  \n",
       "17769       47               CM           SUB         NaN  \n",
       "\n",
       "[14396 rows x 15 columns]"
      ]
     },
     "execution_count": 10,
     "metadata": {},
     "output_type": "execute_result"
    }
   ],
   "source": [
    "fifa19_sel2 = create_position(fifa19_sel_cleaned)\n",
    "fifa19_sel2"
   ]
  },
  {
   "cell_type": "code",
   "execution_count": 11,
   "metadata": {},
   "outputs": [
    {
     "data": {
      "text/plain": [
       "Text(0.5, 0, 'team_position')"
      ]
     },
     "execution_count": 11,
     "metadata": {},
     "output_type": "execute_result"
    },
    {
     "data": {
      "image/png": "[encoded data removed]",
      "text/plain": [
       "<Figure size 864x576 with 1 Axes>"
      ]
     },
     "metadata": {
      "needs_background": "light"
     },
     "output_type": "display_data"
    }
   ],
   "source": [
    "# Distribution of each position\n",
    "plt.figure(figsize=(12, 8))\n",
    "sns.countplot(x = 'position', data =fifa19_sel2)\n",
    "plt.xlabel('team_position')"
   ]
  },
  {
   "cell_type": "markdown",
   "metadata": {},
   "source": [
    "The total count of Midfielder is larger than that of Strikers and Defenders."
   ]
  },
  {
   "cell_type": "code",
   "execution_count": 12,
   "metadata": {},
   "outputs": [
    {
     "data": {
      "text/plain": [
       "<matplotlib.axes._subplots.AxesSubplot at 0x16815a1fe48>"
      ]
     },
     "execution_count": 12,
     "metadata": {},
     "output_type": "execute_result"
    },
    {
     "data": {
      "text/plain": [
       "<Figure size 864x576 with 0 Axes>"
      ]
     },
     "metadata": {},
     "output_type": "display_data"
    },
    {
     "data": {
      "image/png": "[encoded data removed]",
      "text/plain": [
       "<Figure size 1080x1080 with 4 Axes>"
      ]
     },
     "metadata": {
      "needs_background": "light"
     },
     "output_type": "display_data"
    }
   ],
   "source": [
    "plt.figure(figsize=(12, 8))\n",
    "\n",
    "# Set up the matplotlib figure\n",
    "f, axes = plt.subplots(2, 2, figsize=(15, 15), sharex=False)\n",
    "sns.despine(left=True)\n",
    "\n",
    "sns.boxplot('position', 'overall', data = fifa19_sel2, ax=axes[0, 0])\n",
    "sns.boxplot('position', 'age', data = fifa19_sel2, ax=axes[0, 1])\n",
    "\n",
    "sns.boxplot('position', 'height_cm', data = fifa19_sel2, ax=axes[1, 1])\n",
    "sns.boxplot('position', 'weight_kg', data = fifa19_sel2, ax=axes[1, 0])\n"
   ]
  },
  {
   "cell_type": "markdown",
   "metadata": {},
   "source": [
    "- There is no significant difference in Overall Rating among all three positions\n",
    "- Midfielder tends to be shorter and lighter since they need to be more flexible"
   ]
  },
  {
   "cell_type": "code",
   "execution_count": 13,
   "metadata": {},
   "outputs": [
    {
     "data": {
      "text/plain": [
       "<matplotlib.axes._subplots.AxesSubplot at 0x16815be3cc8>"
      ]
     },
     "execution_count": 13,
     "metadata": {},
     "output_type": "execute_result"
    },
    {
     "data": {
      "image/png": "[encoded data removed]",
      "text/plain": [
       "<Figure size 1080x720 with 1 Axes>"
      ]
     },
     "metadata": {
      "needs_background": "light"
     },
     "output_type": "display_data"
    }
   ],
   "source": [
    "plt.figure(figsize=(15,10))\n",
    "sns.countplot(x='preferred_foot', data=fifa19_sel2, hue='position')"
   ]
  },
  {
   "cell_type": "markdown",
   "metadata": {},
   "source": [
    "All three positions, Strikers, Midfielder,  and Defender are heavily right feet used."
   ]
  },
  {
   "cell_type": "code",
   "execution_count": 14,
   "metadata": {},
   "outputs": [
    {
     "data": {
      "text/plain": [
       "<matplotlib.axes._subplots.AxesSubplot at 0x16815e0a208>"
      ]
     },
     "execution_count": 14,
     "metadata": {},
     "output_type": "execute_result"
    },
    {
     "data": {
      "image/png": "[encoded data removed]",
      "text/plain": [
       "<Figure size 2160x720 with 3 Axes>"
      ]
     },
     "metadata": {
      "needs_background": "light"
     },
     "output_type": "display_data"
    }
   ],
   "source": [
    "f, axes = plt.subplots(ncols= 3, figsize=(30, 10), sharex=False)\n",
    "sns.despine(left=True)\n",
    "\n",
    "sns.boxplot('position', 'value_eur', data = fifa19_sel2, showfliers=False, ax=axes[0])\n",
    "sns.boxplot('position', 'wage_eur', data = fifa19_sel2, showfliers=False, ax=axes[1])\n",
    "sns.boxplot('position', 'release_clause_eur', data = fifa19_sel2, showfliers=False, ax=axes[2])"
   ]
  },
  {
   "cell_type": "markdown",
   "metadata": {},
   "source": [
    "- Strikers tend to have higher value, wage, and Release Clause compared to other positions\n",
    "- Defender position has the lowest value, wage, and Release Clause."
   ]
  },
  {
   "cell_type": "code",
   "execution_count": 15,
   "metadata": {},
   "outputs": [],
   "source": [
    "# Function clean_cell_value:\n",
    "    # Function to apply to every string cell that should be turned into numerical. \n",
    "    # Given a string s of the form number+/-number, return the first number as an integer. \n",
    "def clean_cell_value(s):\n",
    "    # Missing values:\n",
    "    if not s:\n",
    "        return 40\n",
    "    # Strings:\n",
    "    if type(s) is not str:\n",
    "        return s\n",
    "    if '-' in s:\n",
    "        return int(s.split('-')[0])\n",
    "    if '+' in s:\n",
    "        return int(s.split('+')[0])\n",
    "    return int(s)\n",
    "\n",
    "# Function clean data strings\n",
    "    # Given a dataframe of data from Fifa, turn all data that should be numerical into numerical data. \n",
    "    # Convert from strings if needed. \n",
    "def clean_data_strings(df):\n",
    "    df_cleaned = df.copy()\n",
    "    numerical_columns = [\"age\",\"height_cm\",\"weight_kg\",\"overall\",\"potential\",\"value_eur\",\n",
    "                        \"international_reputation\",\"weak_foot\",\"skill_moves\",\"release_clause_eur\",\"contract_valid_until\", \n",
    "                        \"nation_jersey_number\",\"pace\",\"shooting\",\"passing\",\"dribbling\",\"defending\",\"physic\",\"gk_diving\",\n",
    "                        \"gk_handling\",\"gk_kicking\",\"gk_reflexes\",\"gk_speed\",\"gk_positioning\",\"attacking_crossing\",\n",
    "                        \"attacking_finishing\",\"attacking_heading_accuracy\",\"attacking_short_passing\",\n",
    "                        \"attacking_volleys\",\"skill_dribbling\",\"skill_curve\",\"skill_fk_accuracy\",\"skill_long_passing\",\n",
    "                        \"skill_ball_control\",\"movement_acceleration\",\"movement_sprint_speed\",\"movement_agility\",\n",
    "                        \"movement_reactions\",\"movement_balance\",\"power_shot_power\",\"power_jumping\",\"power_stamina\",\n",
    "                        \"power_strength\",\"power_long_shots\",\"mentality_aggression\",\"mentality_interceptions\",\n",
    "                        \"mentality_positioning\",\"mentality_vision\",\"mentality_penalties\",\"mentality_composure\",\n",
    "                        \"defending_marking\",\"defending_standing_tackle\",\"defending_sliding_tackle\",\"goalkeeping_diving\",\n",
    "                         \"goalkeeping_handling\",\"goalkeeping_kicking\",\"goalkeeping_positioning\",\"goalkeeping_reflexes\",\n",
    "                        \"ls\",\"st\",\"rs\",\"lw\",\"lf\",\"cf\",\"rf\",\"rw\",\"lam\",\"cam\",\"ram\",\"lm\",\"lcm\",\"cm\",\"rcm\",\"rm\",\"lwb\",\"ldm\",\n",
    "                         \"cdm\",\"rdm\",\"rwb\",\"lb\",\"lcb\",\"cb\",\"rcb\",\"rb\" ]\n",
    "    for col in numerical_columns:\n",
    "        if df_cleaned[col].dtypes!=object:\n",
    "            continue\n",
    "        df_cleaned[col] = df_cleaned[col].apply(clean_cell_value)\n",
    "    return df_cleaned\n"
   ]
  },
  {
   "cell_type": "code",
   "execution_count": 16,
   "metadata": {},
   "outputs": [],
   "source": [
    "# load data\n",
    "fifa19_df = pd.read_csv('data/players_19.csv')"
   ]
  },
  {
   "cell_type": "code",
   "execution_count": 17,
   "metadata": {},
   "outputs": [
    {
     "data": {
      "text/html": [
       "<div>\n",
       "<style scoped>\n",
       "    .dataframe tbody tr th:only-of-type {\n",
       "        vertical-align: middle;\n",
       "    }\n",
       "\n",
       "    .dataframe tbody tr th {\n",
       "        vertical-align: top;\n",
       "    }\n",
       "\n",
       "    .dataframe thead th {\n",
       "        text-align: right;\n",
       "    }\n",
       "</style>\n",
       "<table border=\"1\" class=\"dataframe\">\n",
       "  <thead>\n",
       "    <tr style=\"text-align: right;\">\n",
       "      <th></th>\n",
       "      <th>sofifa_id</th>\n",
       "      <th>player_url</th>\n",
       "      <th>short_name</th>\n",
       "      <th>long_name</th>\n",
       "      <th>age</th>\n",
       "      <th>dob</th>\n",
       "      <th>height_cm</th>\n",
       "      <th>weight_kg</th>\n",
       "      <th>nationality</th>\n",
       "      <th>club</th>\n",
       "      <th>...</th>\n",
       "      <th>ldm</th>\n",
       "      <th>cdm</th>\n",
       "      <th>rdm</th>\n",
       "      <th>rwb</th>\n",
       "      <th>lb</th>\n",
       "      <th>lcb</th>\n",
       "      <th>cb</th>\n",
       "      <th>rcb</th>\n",
       "      <th>rb</th>\n",
       "      <th>position</th>\n",
       "    </tr>\n",
       "  </thead>\n",
       "  <tbody>\n",
       "    <tr>\n",
       "      <th>0</th>\n",
       "      <td>20801</td>\n",
       "      <td>https://sofifa.com/player/20801/c-ronaldo-dos-...</td>\n",
       "      <td>Cristiano Ronaldo</td>\n",
       "      <td>Cristiano Ronaldo dos Santos Aveiro</td>\n",
       "      <td>33</td>\n",
       "      <td>1985-02-05</td>\n",
       "      <td>187</td>\n",
       "      <td>83</td>\n",
       "      <td>Portugal</td>\n",
       "      <td>Juventus</td>\n",
       "      <td>...</td>\n",
       "      <td>61+3</td>\n",
       "      <td>61+3</td>\n",
       "      <td>61+3</td>\n",
       "      <td>65+3</td>\n",
       "      <td>61+3</td>\n",
       "      <td>53+3</td>\n",
       "      <td>53+3</td>\n",
       "      <td>53+3</td>\n",
       "      <td>61+3</td>\n",
       "      <td>Strikers</td>\n",
       "    </tr>\n",
       "    <tr>\n",
       "      <th>1</th>\n",
       "      <td>158023</td>\n",
       "      <td>https://sofifa.com/player/158023/lionel-messi/...</td>\n",
       "      <td>L. Messi</td>\n",
       "      <td>Lionel Andrés Messi Cuccittini</td>\n",
       "      <td>31</td>\n",
       "      <td>1987-06-24</td>\n",
       "      <td>170</td>\n",
       "      <td>72</td>\n",
       "      <td>Argentina</td>\n",
       "      <td>FC Barcelona</td>\n",
       "      <td>...</td>\n",
       "      <td>61+2</td>\n",
       "      <td>61+2</td>\n",
       "      <td>61+2</td>\n",
       "      <td>63+2</td>\n",
       "      <td>58+2</td>\n",
       "      <td>47+2</td>\n",
       "      <td>47+2</td>\n",
       "      <td>47+2</td>\n",
       "      <td>58+2</td>\n",
       "      <td>Strikers</td>\n",
       "    </tr>\n",
       "    <tr>\n",
       "      <th>2</th>\n",
       "      <td>190871</td>\n",
       "      <td>https://sofifa.com/player/190871/neymar-da-sil...</td>\n",
       "      <td>Neymar Jr</td>\n",
       "      <td>Neymar da Silva Santos Junior</td>\n",
       "      <td>26</td>\n",
       "      <td>1992-02-05</td>\n",
       "      <td>175</td>\n",
       "      <td>68</td>\n",
       "      <td>Brazil</td>\n",
       "      <td>Paris Saint-Germain</td>\n",
       "      <td>...</td>\n",
       "      <td>60+3</td>\n",
       "      <td>60+3</td>\n",
       "      <td>60+3</td>\n",
       "      <td>65+3</td>\n",
       "      <td>60+3</td>\n",
       "      <td>47+3</td>\n",
       "      <td>47+3</td>\n",
       "      <td>47+3</td>\n",
       "      <td>60+3</td>\n",
       "      <td>Midfielder</td>\n",
       "    </tr>\n",
       "    <tr>\n",
       "      <th>3</th>\n",
       "      <td>193080</td>\n",
       "      <td>https://sofifa.com/player/193080/david-de-gea-...</td>\n",
       "      <td>De Gea</td>\n",
       "      <td>David De Gea Quintana</td>\n",
       "      <td>27</td>\n",
       "      <td>1990-11-07</td>\n",
       "      <td>193</td>\n",
       "      <td>76</td>\n",
       "      <td>Spain</td>\n",
       "      <td>Manchester United</td>\n",
       "      <td>...</td>\n",
       "      <td>NaN</td>\n",
       "      <td>NaN</td>\n",
       "      <td>NaN</td>\n",
       "      <td>NaN</td>\n",
       "      <td>NaN</td>\n",
       "      <td>NaN</td>\n",
       "      <td>NaN</td>\n",
       "      <td>NaN</td>\n",
       "      <td>NaN</td>\n",
       "      <td>NaN</td>\n",
       "    </tr>\n",
       "    <tr>\n",
       "      <th>4</th>\n",
       "      <td>192985</td>\n",
       "      <td>https://sofifa.com/player/192985/kevin-de-bruy...</td>\n",
       "      <td>K. De Bruyne</td>\n",
       "      <td>Kevin De Bruyne</td>\n",
       "      <td>27</td>\n",
       "      <td>1991-06-28</td>\n",
       "      <td>181</td>\n",
       "      <td>70</td>\n",
       "      <td>Belgium</td>\n",
       "      <td>Manchester City</td>\n",
       "      <td>...</td>\n",
       "      <td>77+3</td>\n",
       "      <td>77+3</td>\n",
       "      <td>77+3</td>\n",
       "      <td>77+3</td>\n",
       "      <td>73+3</td>\n",
       "      <td>66+3</td>\n",
       "      <td>66+3</td>\n",
       "      <td>66+3</td>\n",
       "      <td>73+3</td>\n",
       "      <td>Midfielder</td>\n",
       "    </tr>\n",
       "  </tbody>\n",
       "</table>\n",
       "<p>5 rows × 105 columns</p>\n",
       "</div>"
      ],
      "text/plain": [
       "   sofifa_id                                         player_url  \\\n",
       "0      20801  https://sofifa.com/player/20801/c-ronaldo-dos-...   \n",
       "1     158023  https://sofifa.com/player/158023/lionel-messi/...   \n",
       "2     190871  https://sofifa.com/player/190871/neymar-da-sil...   \n",
       "3     193080  https://sofifa.com/player/193080/david-de-gea-...   \n",
       "4     192985  https://sofifa.com/player/192985/kevin-de-bruy...   \n",
       "\n",
       "          short_name                            long_name  age         dob  \\\n",
       "0  Cristiano Ronaldo  Cristiano Ronaldo dos Santos Aveiro   33  1985-02-05   \n",
       "1           L. Messi       Lionel Andrés Messi Cuccittini   31  1987-06-24   \n",
       "2          Neymar Jr        Neymar da Silva Santos Junior   26  1992-02-05   \n",
       "3             De Gea                David De Gea Quintana   27  1990-11-07   \n",
       "4       K. De Bruyne                      Kevin De Bruyne   27  1991-06-28   \n",
       "\n",
       "   height_cm  weight_kg nationality                 club  ...   ldm   cdm  \\\n",
       "0        187         83    Portugal             Juventus  ...  61+3  61+3   \n",
       "1        170         72   Argentina         FC Barcelona  ...  61+2  61+2   \n",
       "2        175         68      Brazil  Paris Saint-Germain  ...  60+3  60+3   \n",
       "3        193         76       Spain    Manchester United  ...   NaN   NaN   \n",
       "4        181         70     Belgium      Manchester City  ...  77+3  77+3   \n",
       "\n",
       "    rdm   rwb    lb   lcb    cb   rcb    rb    position  \n",
       "0  61+3  65+3  61+3  53+3  53+3  53+3  61+3    Strikers  \n",
       "1  61+2  63+2  58+2  47+2  47+2  47+2  58+2    Strikers  \n",
       "2  60+3  65+3  60+3  47+3  47+3  47+3  60+3  Midfielder  \n",
       "3   NaN   NaN   NaN   NaN   NaN   NaN   NaN         NaN  \n",
       "4  77+3  77+3  73+3  66+3  66+3  66+3  73+3  Midfielder  \n",
       "\n",
       "[5 rows x 105 columns]"
      ]
     },
     "execution_count": 17,
     "metadata": {},
     "output_type": "execute_result"
    }
   ],
   "source": [
    "fifa19_df_new = create_position(fifa19_df)\n",
    "fifa19_df_new.head()"
   ]
  },
  {
   "cell_type": "code",
   "execution_count": 18,
   "metadata": {},
   "outputs": [
    {
     "name": "stdout",
     "output_type": "stream",
     "text": [
      "sofifa_id       int64\n",
      "player_url     object\n",
      "short_name     object\n",
      "long_name      object\n",
      "age             int64\n",
      "               ...   \n",
      "lcb           float64\n",
      "cb            float64\n",
      "rcb           float64\n",
      "rb            float64\n",
      "position       object\n",
      "Length: 105, dtype: object\n"
     ]
    }
   ],
   "source": [
    "fifa19_df_clean = clean_data_strings(fifa19_df_new)\n",
    "print(fifa19_df_clean.dtypes)"
   ]
  },
  {
   "cell_type": "code",
   "execution_count": 19,
   "metadata": {},
   "outputs": [
    {
     "data": {
      "image/png": "[encoded data removed]",
      "text/plain": [
       "<Figure size 432x288 with 1 Axes>"
      ]
     },
     "metadata": {
      "needs_background": "light"
     },
     "output_type": "display_data"
    }
   ],
   "source": [
    "#Scatter plot attacking_finishing by attacking_short_passing classified by position\n",
    "ax = sns.scatterplot(x=\"attacking_short_passing\", y=\"attacking_finishing\", hue=\"position\",data=fifa19_df_clean)"
   ]
  },
  {
   "cell_type": "code",
   "execution_count": 20,
   "metadata": {},
   "outputs": [
    {
     "data": {
      "image/png": "[encoded data removed]",
      "text/plain": [
       "<Figure size 432x288 with 1 Axes>"
      ]
     },
     "metadata": {
      "needs_background": "light"
     },
     "output_type": "display_data"
    }
   ],
   "source": [
    "column_list =['attacking_crossing','attacking_finishing','attacking_heading_accuracy','attacking_short_passing',\n",
    "                        'attacking_volleys']\n",
    "df_attacking = fifa19_df_clean[column_list].mean(axis=1)\n",
    "#display(df_attacking)\n",
    "\n",
    "ax = fifa19_df_clean[column_list].mean(axis=1).plot.hist(bins=12, alpha = 0.5)"
   ]
  },
  {
   "cell_type": "code",
   "execution_count": 21,
   "metadata": {},
   "outputs": [
    {
     "data": {
      "image/png": "[encoded data removed]",
      "text/plain": [
       "<Figure size 432x288 with 1 Axes>"
      ]
     },
     "metadata": {
      "needs_background": "light"
     },
     "output_type": "display_data"
    }
   ],
   "source": [
    "column_list =['skill_dribbling','skill_curve','skill_fk_accuracy','skill_long_passing',\n",
    "                        'skill_ball_control']\n",
    "df_skill = fifa19_df_clean[column_list].mean(axis=1)\n",
    "\n",
    "ax = df_skill.plot.hist(bins=12, alpha = 0.5)"
   ]
  },
  {
   "cell_type": "code",
   "execution_count": 22,
   "metadata": {},
   "outputs": [
    {
     "data": {
      "image/png": "[encoded data removed]",
      "text/plain": [
       "<Figure size 432x288 with 1 Axes>"
      ]
     },
     "metadata": {
      "needs_background": "light"
     },
     "output_type": "display_data"
    }
   ],
   "source": [
    "#result = pd.concat([df_attacking, df_skill, fifa19_df_new[['position']]], axis=1, join='inner')\n",
    "\n",
    "result = pd.DataFrame(pd.concat([df_attacking, df_skill, fifa19_df_new[['position']]], axis=1, join='inner').values,\n",
    "                     columns = ['attacking_mean', 'skill_mean', 'position'])\n",
    "#display(result)\n",
    "result = result.dropna()\n",
    "#display(result)\n",
    "\n",
    "ax = result.plot.hist(bins=12, alpha = 0.3)"
   ]
  },
  {
   "cell_type": "code",
   "execution_count": 23,
   "metadata": {},
   "outputs": [
    {
     "data": {
      "text/plain": [
       "Text(0.5, 0, 'movement mean')"
      ]
     },
     "execution_count": 23,
     "metadata": {},
     "output_type": "execute_result"
    },
    {
     "data": {
      "image/png": "[encoded data removed]",
      "text/plain": [
       "<Figure size 432x288 with 1 Axes>"
      ]
     },
     "metadata": {
      "needs_background": "light"
     },
     "output_type": "display_data"
    }
   ],
   "source": [
    "column_list =['movement_acceleration','movement_sprint_speed','movement_agility','movement_reactions',\n",
    "                        'movement_balance']\n",
    "df_movement = fifa19_df_clean[column_list].mean(axis=1)\n",
    "\n",
    "ax = df_movement.plot.hist(bins=12, alpha = 0.5)\n",
    "ax.set_xlabel('movement mean')"
   ]
  },
  {
   "cell_type": "code",
   "execution_count": 24,
   "metadata": {},
   "outputs": [
    {
     "data": {
      "image/png": "[encoded data removed]",
      "text/plain": [
       "<Figure size 432x288 with 1 Axes>"
      ]
     },
     "metadata": {
      "needs_background": "light"
     },
     "output_type": "display_data"
    }
   ],
   "source": [
    "column_list =['power_shot_power','power_jumping','power_stamina',\"power_strength\",\"power_long_shots\"]\n",
    "df_power = fifa19_df_clean[column_list].mean(axis=1)\n",
    "\n",
    "ax = df_power.plot.hist(bins=12, alpha = 0.5)"
   ]
  },
  {
   "cell_type": "code",
   "execution_count": 25,
   "metadata": {},
   "outputs": [
    {
     "data": {
      "image/png": "[encoded data removed]",
      "text/plain": [
       "<Figure size 432x288 with 1 Axes>"
      ]
     },
     "metadata": {
      "needs_background": "light"
     },
     "output_type": "display_data"
    }
   ],
   "source": [
    "column_list =[\"mentality_aggression\",\"mentality_interceptions\", \"mentality_positioning\",\"mentality_vision\",\n",
    "              \"mentality_penalties\",\"mentality_composure\"]\n",
    "df_mentality = fifa19_df_clean[column_list].mean(axis=1)\n",
    "\n",
    "ax = df_mentality.plot.hist(bins=12, alpha = 0.5)"
   ]
  },
  {
   "cell_type": "code",
   "execution_count": 26,
   "metadata": {
    "scrolled": true
   },
   "outputs": [
    {
     "data": {
      "image/png": "[encoded data removed]",
      "text/plain": [
       "<Figure size 432x288 with 1 Axes>"
      ]
     },
     "metadata": {
      "needs_background": "light"
     },
     "output_type": "display_data"
    }
   ],
   "source": [
    "column_list =[\"defending_marking\",\"defending_standing_tackle\",\"defending_sliding_tackle\"]\n",
    "df_defending = fifa19_df_clean[column_list].mean(axis=1)\n",
    "\n",
    "ax = df_defending.plot.hist(bins=12, alpha = 0.5)"
   ]
  },
  {
   "cell_type": "code",
   "execution_count": 27,
   "metadata": {},
   "outputs": [
    {
     "data": {
      "image/png": "[encoded data removed]",
      "text/plain": [
       "<Figure size 432x288 with 1 Axes>"
      ]
     },
     "metadata": {
      "needs_background": "light"
     },
     "output_type": "display_data"
    }
   ],
   "source": [
    "result_19 = pd.DataFrame(pd.concat([df_attacking, df_skill, df_movement, df_power, df_mentality, df_defending, fifa19_df_clean[['team_position']], fifa19_df_clean[['position']]], axis=1, join='inner').values,\n",
    "                     columns = ['attacking_mean', 'skill_mean', 'movement_mean',\n",
    "                                'power_mean','mentality_mean','defending_mean', 'team_position', 'position'])\n",
    "#display(result_19)\n",
    "result_19 = result_19.dropna()\n",
    "#display(result_19)\n",
    "\n",
    "ax = result_19.plot.hist(bins=12, alpha = 0.3)"
   ]
  },
  {
   "cell_type": "code",
   "execution_count": 28,
   "metadata": {},
   "outputs": [
    {
     "data": {
      "text/html": [
       "<div>\n",
       "<style scoped>\n",
       "    .dataframe tbody tr th:only-of-type {\n",
       "        vertical-align: middle;\n",
       "    }\n",
       "\n",
       "    .dataframe tbody tr th {\n",
       "        vertical-align: top;\n",
       "    }\n",
       "\n",
       "    .dataframe thead th {\n",
       "        text-align: right;\n",
       "    }\n",
       "</style>\n",
       "<table border=\"1\" class=\"dataframe\">\n",
       "  <thead>\n",
       "    <tr style=\"text-align: right;\">\n",
       "      <th></th>\n",
       "      <th>attacking_mean</th>\n",
       "      <th>skill_mean</th>\n",
       "      <th>movement_mean</th>\n",
       "      <th>power_mean</th>\n",
       "      <th>mentality_mean</th>\n",
       "      <th>defending_mean</th>\n",
       "      <th>team_position</th>\n",
       "      <th>position</th>\n",
       "    </tr>\n",
       "  </thead>\n",
       "  <tbody>\n",
       "    <tr>\n",
       "      <th>0</th>\n",
       "      <td>87</td>\n",
       "      <td>83.2</td>\n",
       "      <td>86.6</td>\n",
       "      <td>90</td>\n",
       "      <td>74.8333</td>\n",
       "      <td>27.3333</td>\n",
       "      <td>LW</td>\n",
       "      <td>Strikers</td>\n",
       "    </tr>\n",
       "    <tr>\n",
       "      <th>1</th>\n",
       "      <td>83.6</td>\n",
       "      <td>93.4</td>\n",
       "      <td>91.6</td>\n",
       "      <td>75.6</td>\n",
       "      <td>71.5</td>\n",
       "      <td>29</td>\n",
       "      <td>RW</td>\n",
       "      <td>Strikers</td>\n",
       "    </tr>\n",
       "    <tr>\n",
       "      <th>2</th>\n",
       "      <td>79.2</td>\n",
       "      <td>88.8</td>\n",
       "      <td>91.6</td>\n",
       "      <td>70.6</td>\n",
       "      <td>73.8333</td>\n",
       "      <td>28</td>\n",
       "      <td>CAM</td>\n",
       "      <td>Midfielder</td>\n",
       "    </tr>\n",
       "    <tr>\n",
       "      <th>4</th>\n",
       "      <td>81</td>\n",
       "      <td>87.2</td>\n",
       "      <td>80.2</td>\n",
       "      <td>82</td>\n",
       "      <td>80.6667</td>\n",
       "      <td>58.6667</td>\n",
       "      <td>RCM</td>\n",
       "      <td>Midfielder</td>\n",
       "    </tr>\n",
       "    <tr>\n",
       "      <th>5</th>\n",
       "      <td>72.2</td>\n",
       "      <td>71.4</td>\n",
       "      <td>76</td>\n",
       "      <td>78.8</td>\n",
       "      <td>72.8333</td>\n",
       "      <td>90.6667</td>\n",
       "      <td>LCB</td>\n",
       "      <td>Defender</td>\n",
       "    </tr>\n",
       "  </tbody>\n",
       "</table>\n",
       "</div>"
      ],
      "text/plain": [
       "  attacking_mean skill_mean movement_mean power_mean mentality_mean  \\\n",
       "0             87       83.2          86.6         90        74.8333   \n",
       "1           83.6       93.4          91.6       75.6           71.5   \n",
       "2           79.2       88.8          91.6       70.6        73.8333   \n",
       "4             81       87.2          80.2         82        80.6667   \n",
       "5           72.2       71.4            76       78.8        72.8333   \n",
       "\n",
       "  defending_mean team_position    position  \n",
       "0        27.3333            LW    Strikers  \n",
       "1             29            RW    Strikers  \n",
       "2             28           CAM  Midfielder  \n",
       "4        58.6667           RCM  Midfielder  \n",
       "5        90.6667           LCB    Defender  "
      ]
     },
     "metadata": {},
     "output_type": "display_data"
    }
   ],
   "source": [
    "display(result_19.head())"
   ]
  },
  {
   "cell_type": "code",
   "execution_count": 29,
   "metadata": {},
   "outputs": [],
   "source": [
    "def create_position2(df):\n",
    "    df_new = df.copy()\n",
    "    \n",
    "    df_new.loc[df.position == 'Strikers', 'position_class'] = int(0)\n",
    "\n",
    "    \n",
    "    df_new.loc[df.position == 'Midfielder' , 'position_class'] = int(1)\n",
    "\n",
    "    \n",
    "    df_new.loc[df.position == 'Defender' , 'position_class'] = int(2)\n",
    "    \n",
    "    return df_new"
   ]
  },
  {
   "cell_type": "code",
   "execution_count": 30,
   "metadata": {},
   "outputs": [
    {
     "data": {
      "text/html": [
       "<div>\n",
       "<style scoped>\n",
       "    .dataframe tbody tr th:only-of-type {\n",
       "        vertical-align: middle;\n",
       "    }\n",
       "\n",
       "    .dataframe tbody tr th {\n",
       "        vertical-align: top;\n",
       "    }\n",
       "\n",
       "    .dataframe thead th {\n",
       "        text-align: right;\n",
       "    }\n",
       "</style>\n",
       "<table border=\"1\" class=\"dataframe\">\n",
       "  <thead>\n",
       "    <tr style=\"text-align: right;\">\n",
       "      <th></th>\n",
       "      <th>attacking_mean</th>\n",
       "      <th>skill_mean</th>\n",
       "      <th>movement_mean</th>\n",
       "      <th>power_mean</th>\n",
       "      <th>mentality_mean</th>\n",
       "      <th>defending_mean</th>\n",
       "      <th>team_position</th>\n",
       "      <th>position</th>\n",
       "      <th>position_class</th>\n",
       "    </tr>\n",
       "  </thead>\n",
       "  <tbody>\n",
       "    <tr>\n",
       "      <th>0</th>\n",
       "      <td>87</td>\n",
       "      <td>83.2</td>\n",
       "      <td>86.6</td>\n",
       "      <td>90</td>\n",
       "      <td>74.8333</td>\n",
       "      <td>27.3333</td>\n",
       "      <td>LW</td>\n",
       "      <td>Strikers</td>\n",
       "      <td>0.0</td>\n",
       "    </tr>\n",
       "    <tr>\n",
       "      <th>1</th>\n",
       "      <td>83.6</td>\n",
       "      <td>93.4</td>\n",
       "      <td>91.6</td>\n",
       "      <td>75.6</td>\n",
       "      <td>71.5</td>\n",
       "      <td>29</td>\n",
       "      <td>RW</td>\n",
       "      <td>Strikers</td>\n",
       "      <td>0.0</td>\n",
       "    </tr>\n",
       "    <tr>\n",
       "      <th>2</th>\n",
       "      <td>79.2</td>\n",
       "      <td>88.8</td>\n",
       "      <td>91.6</td>\n",
       "      <td>70.6</td>\n",
       "      <td>73.8333</td>\n",
       "      <td>28</td>\n",
       "      <td>CAM</td>\n",
       "      <td>Midfielder</td>\n",
       "      <td>1.0</td>\n",
       "    </tr>\n",
       "    <tr>\n",
       "      <th>4</th>\n",
       "      <td>81</td>\n",
       "      <td>87.2</td>\n",
       "      <td>80.2</td>\n",
       "      <td>82</td>\n",
       "      <td>80.6667</td>\n",
       "      <td>58.6667</td>\n",
       "      <td>RCM</td>\n",
       "      <td>Midfielder</td>\n",
       "      <td>1.0</td>\n",
       "    </tr>\n",
       "    <tr>\n",
       "      <th>5</th>\n",
       "      <td>72.2</td>\n",
       "      <td>71.4</td>\n",
       "      <td>76</td>\n",
       "      <td>78.8</td>\n",
       "      <td>72.8333</td>\n",
       "      <td>90.6667</td>\n",
       "      <td>LCB</td>\n",
       "      <td>Defender</td>\n",
       "      <td>2.0</td>\n",
       "    </tr>\n",
       "  </tbody>\n",
       "</table>\n",
       "</div>"
      ],
      "text/plain": [
       "  attacking_mean skill_mean movement_mean power_mean mentality_mean  \\\n",
       "0             87       83.2          86.6         90        74.8333   \n",
       "1           83.6       93.4          91.6       75.6           71.5   \n",
       "2           79.2       88.8          91.6       70.6        73.8333   \n",
       "4             81       87.2          80.2         82        80.6667   \n",
       "5           72.2       71.4            76       78.8        72.8333   \n",
       "\n",
       "  defending_mean team_position    position  position_class  \n",
       "0        27.3333            LW    Strikers             0.0  \n",
       "1             29            RW    Strikers             0.0  \n",
       "2             28           CAM  Midfielder             1.0  \n",
       "4        58.6667           RCM  Midfielder             1.0  \n",
       "5        90.6667           LCB    Defender             2.0  "
      ]
     },
     "execution_count": 30,
     "metadata": {},
     "output_type": "execute_result"
    }
   ],
   "source": [
    "result_19_new = create_position2(result_19)\n",
    "result_19_new.head()"
   ]
  },
  {
   "cell_type": "code",
   "execution_count": 31,
   "metadata": {},
   "outputs": [
    {
     "data": {
      "text/html": [
       "<div>\n",
       "<style scoped>\n",
       "    .dataframe tbody tr th:only-of-type {\n",
       "        vertical-align: middle;\n",
       "    }\n",
       "\n",
       "    .dataframe tbody tr th {\n",
       "        vertical-align: top;\n",
       "    }\n",
       "\n",
       "    .dataframe thead th {\n",
       "        text-align: right;\n",
       "    }\n",
       "</style>\n",
       "<table border=\"1\" class=\"dataframe\">\n",
       "  <thead>\n",
       "    <tr style=\"text-align: right;\">\n",
       "      <th></th>\n",
       "      <th>attacking_mean</th>\n",
       "      <th>skill_mean</th>\n",
       "      <th>movement_mean</th>\n",
       "      <th>power_mean</th>\n",
       "      <th>mentality_mean</th>\n",
       "      <th>defending_mean</th>\n",
       "    </tr>\n",
       "  </thead>\n",
       "  <tbody>\n",
       "    <tr>\n",
       "      <th>0</th>\n",
       "      <td>87</td>\n",
       "      <td>83.2</td>\n",
       "      <td>86.6</td>\n",
       "      <td>90</td>\n",
       "      <td>74.8333</td>\n",
       "      <td>27.3333</td>\n",
       "    </tr>\n",
       "    <tr>\n",
       "      <th>1</th>\n",
       "      <td>83.6</td>\n",
       "      <td>93.4</td>\n",
       "      <td>91.6</td>\n",
       "      <td>75.6</td>\n",
       "      <td>71.5</td>\n",
       "      <td>29</td>\n",
       "    </tr>\n",
       "    <tr>\n",
       "      <th>2</th>\n",
       "      <td>79.2</td>\n",
       "      <td>88.8</td>\n",
       "      <td>91.6</td>\n",
       "      <td>70.6</td>\n",
       "      <td>73.8333</td>\n",
       "      <td>28</td>\n",
       "    </tr>\n",
       "    <tr>\n",
       "      <th>4</th>\n",
       "      <td>81</td>\n",
       "      <td>87.2</td>\n",
       "      <td>80.2</td>\n",
       "      <td>82</td>\n",
       "      <td>80.6667</td>\n",
       "      <td>58.6667</td>\n",
       "    </tr>\n",
       "    <tr>\n",
       "      <th>5</th>\n",
       "      <td>72.2</td>\n",
       "      <td>71.4</td>\n",
       "      <td>76</td>\n",
       "      <td>78.8</td>\n",
       "      <td>72.8333</td>\n",
       "      <td>90.6667</td>\n",
       "    </tr>\n",
       "    <tr>\n",
       "      <th>...</th>\n",
       "      <td>...</td>\n",
       "      <td>...</td>\n",
       "      <td>...</td>\n",
       "      <td>...</td>\n",
       "      <td>...</td>\n",
       "      <td>...</td>\n",
       "    </tr>\n",
       "    <tr>\n",
       "      <th>17579</th>\n",
       "      <td>44.2</td>\n",
       "      <td>38</td>\n",
       "      <td>72.4</td>\n",
       "      <td>54</td>\n",
       "      <td>43.5</td>\n",
       "      <td>18.3333</td>\n",
       "    </tr>\n",
       "    <tr>\n",
       "      <th>17594</th>\n",
       "      <td>44</td>\n",
       "      <td>48.2</td>\n",
       "      <td>65</td>\n",
       "      <td>44.4</td>\n",
       "      <td>44</td>\n",
       "      <td>39.6667</td>\n",
       "    </tr>\n",
       "    <tr>\n",
       "      <th>17633</th>\n",
       "      <td>45.4</td>\n",
       "      <td>38.8</td>\n",
       "      <td>55</td>\n",
       "      <td>47.2</td>\n",
       "      <td>41.5</td>\n",
       "      <td>19.3333</td>\n",
       "    </tr>\n",
       "    <tr>\n",
       "      <th>17745</th>\n",
       "      <td>40.4</td>\n",
       "      <td>40.4</td>\n",
       "      <td>55.4</td>\n",
       "      <td>52.2</td>\n",
       "      <td>46.1667</td>\n",
       "      <td>47</td>\n",
       "    </tr>\n",
       "    <tr>\n",
       "      <th>17767</th>\n",
       "      <td>41</td>\n",
       "      <td>42.2</td>\n",
       "      <td>71</td>\n",
       "      <td>49</td>\n",
       "      <td>43.6667</td>\n",
       "      <td>43.6667</td>\n",
       "    </tr>\n",
       "  </tbody>\n",
       "</table>\n",
       "<p>6384 rows × 6 columns</p>\n",
       "</div>"
      ],
      "text/plain": [
       "      attacking_mean skill_mean movement_mean power_mean mentality_mean  \\\n",
       "0                 87       83.2          86.6         90        74.8333   \n",
       "1               83.6       93.4          91.6       75.6           71.5   \n",
       "2               79.2       88.8          91.6       70.6        73.8333   \n",
       "4                 81       87.2          80.2         82        80.6667   \n",
       "5               72.2       71.4            76       78.8        72.8333   \n",
       "...              ...        ...           ...        ...            ...   \n",
       "17579           44.2         38          72.4         54           43.5   \n",
       "17594             44       48.2            65       44.4             44   \n",
       "17633           45.4       38.8            55       47.2           41.5   \n",
       "17745           40.4       40.4          55.4       52.2        46.1667   \n",
       "17767             41       42.2            71         49        43.6667   \n",
       "\n",
       "      defending_mean  \n",
       "0            27.3333  \n",
       "1                 29  \n",
       "2                 28  \n",
       "4            58.6667  \n",
       "5            90.6667  \n",
       "...              ...  \n",
       "17579        18.3333  \n",
       "17594        39.6667  \n",
       "17633        19.3333  \n",
       "17745             47  \n",
       "17767        43.6667  \n",
       "\n",
       "[6384 rows x 6 columns]"
      ]
     },
     "execution_count": 31,
     "metadata": {},
     "output_type": "execute_result"
    }
   ],
   "source": [
    "X_train = result_19_new.drop(['position', 'position_class', 'team_position'],axis=1)\n",
    "y_train = result_19_new['position_class']\n",
    "\n",
    "X_train"
   ]
  },
  {
   "cell_type": "code",
   "execution_count": 32,
   "metadata": {},
   "outputs": [
    {
     "data": {
      "image/png": "[encoded data removed]",
      "text/plain": [
       "<Figure size 720x720 with 2 Axes>"
      ]
     },
     "metadata": {
      "needs_background": "light"
     },
     "output_type": "display_data"
    }
   ],
   "source": [
    "# Create the heat map of features correlation\n",
    "plt.figure(figsize=(10,10))\n",
    "plt.title('Features Correlation', y=1.05, size=15)\n",
    "sns.heatmap(X_train.astype(float).corr(),linewidths= 0.1,vmax= 1.0, \n",
    "            square=True, cmap=plt.cm.RdBu, annot=False)\n",
    "plt.show()"
   ]
  },
  {
   "cell_type": "markdown",
   "metadata": {},
   "source": [
    "### Scaling Data"
   ]
  },
  {
   "cell_type": "code",
   "execution_count": 33,
   "metadata": {},
   "outputs": [
    {
     "data": {
      "text/html": [
       "<div>\n",
       "<style scoped>\n",
       "    .dataframe tbody tr th:only-of-type {\n",
       "        vertical-align: middle;\n",
       "    }\n",
       "\n",
       "    .dataframe tbody tr th {\n",
       "        vertical-align: top;\n",
       "    }\n",
       "\n",
       "    .dataframe thead th {\n",
       "        text-align: right;\n",
       "    }\n",
       "</style>\n",
       "<table border=\"1\" class=\"dataframe\">\n",
       "  <thead>\n",
       "    <tr style=\"text-align: right;\">\n",
       "      <th></th>\n",
       "      <th>attacking_mean</th>\n",
       "      <th>skill_mean</th>\n",
       "      <th>movement_mean</th>\n",
       "      <th>power_mean</th>\n",
       "      <th>mentality_mean</th>\n",
       "      <th>defending_mean</th>\n",
       "    </tr>\n",
       "  </thead>\n",
       "  <tbody>\n",
       "    <tr>\n",
       "      <th>0</th>\n",
       "      <td>3.319851</td>\n",
       "      <td>2.251479</td>\n",
       "      <td>2.078904</td>\n",
       "      <td>3.465311</td>\n",
       "      <td>2.089103</td>\n",
       "      <td>-1.544106</td>\n",
       "    </tr>\n",
       "    <tr>\n",
       "      <th>1</th>\n",
       "      <td>2.948779</td>\n",
       "      <td>3.177689</td>\n",
       "      <td>2.618112</td>\n",
       "      <td>1.471915</td>\n",
       "      <td>1.661970</td>\n",
       "      <td>-1.449393</td>\n",
       "    </tr>\n",
       "    <tr>\n",
       "      <th>2</th>\n",
       "      <td>2.468570</td>\n",
       "      <td>2.759986</td>\n",
       "      <td>2.618112</td>\n",
       "      <td>0.779763</td>\n",
       "      <td>1.960963</td>\n",
       "      <td>-1.506221</td>\n",
       "    </tr>\n",
       "    <tr>\n",
       "      <th>3</th>\n",
       "      <td>2.665019</td>\n",
       "      <td>2.614698</td>\n",
       "      <td>1.388718</td>\n",
       "      <td>2.357868</td>\n",
       "      <td>2.836585</td>\n",
       "      <td>0.236501</td>\n",
       "    </tr>\n",
       "    <tr>\n",
       "      <th>4</th>\n",
       "      <td>1.704600</td>\n",
       "      <td>1.179980</td>\n",
       "      <td>0.935783</td>\n",
       "      <td>1.914891</td>\n",
       "      <td>1.832823</td>\n",
       "      <td>2.054994</td>\n",
       "    </tr>\n",
       "  </tbody>\n",
       "</table>\n",
       "</div>"
      ],
      "text/plain": [
       "   attacking_mean  skill_mean  movement_mean  power_mean  mentality_mean  \\\n",
       "0        3.319851    2.251479       2.078904    3.465311        2.089103   \n",
       "1        2.948779    3.177689       2.618112    1.471915        1.661970   \n",
       "2        2.468570    2.759986       2.618112    0.779763        1.960963   \n",
       "3        2.665019    2.614698       1.388718    2.357868        2.836585   \n",
       "4        1.704600    1.179980       0.935783    1.914891        1.832823   \n",
       "\n",
       "   defending_mean  \n",
       "0       -1.544106  \n",
       "1       -1.449393  \n",
       "2       -1.506221  \n",
       "3        0.236501  \n",
       "4        2.054994  "
      ]
     },
     "execution_count": 33,
     "metadata": {},
     "output_type": "execute_result"
    }
   ],
   "source": [
    "# scale data\n",
    "scaler = StandardScaler()\n",
    "\n",
    "# fit on train\n",
    "scaler.fit(X_train)\n",
    "\n",
    "# transform on train and test\n",
    "#scaled_X_train = ct_scale.transform(X_train)\n",
    "scaled_X_train = pd.DataFrame(scaler.transform(X_train), columns = X_train.columns)\n",
    "#scaled_X_test = pd.DataFrame(scaler.transform(X_test), columns = X_test.columns)\n",
    "scaled_X_train.head()"
   ]
  },
  {
   "cell_type": "markdown",
   "metadata": {},
   "source": [
    "### OvR logistic regression"
   ]
  },
  {
   "cell_type": "code",
   "execution_count": 34,
   "metadata": {},
   "outputs": [
    {
     "name": "stdout",
     "output_type": "stream",
     "text": [
      "Logistic Regression Estimated Betas:  [[ 1.28396077 -1.38915145 -0.13607538  0.34088393  0.48203085 -2.2597038 ]\n",
      " [-1.00027899  1.63828869 -0.0125108  -0.17049283  0.41326208 -0.41883168]\n",
      " [ 0.25927034 -0.6516527   0.30364444 -0.26918385 -1.69441825  4.29419064]] [-3.03447217 -0.41291038 -1.95455219]\n"
     ]
    }
   ],
   "source": [
    "# Create a logistic regression model, with 'none' as the penalty and 'ovr' as multi_class\n",
    "logit_ovr = LogisticRegression(penalty='none', multi_class='ovr',max_iter = 1000)\n",
    "\n",
    "#Fit the model using the training set\n",
    "#logit_ovr.fit(X_train, y_train)\n",
    "logit_ovr.fit(scaled_X_train, y_train)\n",
    "\n",
    "# Get the coefficient estimates\n",
    "print(\"Logistic Regression Estimated Betas: \",logit_ovr.coef_,logit_ovr.intercept_)"
   ]
  },
  {
   "cell_type": "code",
   "execution_count": 35,
   "metadata": {},
   "outputs": [
    {
     "name": "stdout",
     "output_type": "stream",
     "text": [
      "train_score: 77.21%\n"
     ]
    }
   ],
   "source": [
    "# calculate initial accuracy on train\n",
    "train_score = logit_ovr.score(scaled_X_train, y_train)\n",
    "\n",
    "print(f'train_score: {train_score*100:.2f}%')"
   ]
  },
  {
   "cell_type": "markdown",
   "metadata": {},
   "source": [
    "### Multinomial logistic regression"
   ]
  },
  {
   "cell_type": "code",
   "execution_count": 36,
   "metadata": {},
   "outputs": [
    {
     "name": "stdout",
     "output_type": "stream",
     "text": [
      "Logistic Regression Estimated Betas: [[ 0.74532313 -0.7462883  -0.19759913  0.29860704  0.83073722 -2.70034988]\n",
      " [-0.52600113  0.72535857 -0.05094114 -0.02133977  0.42236041 -0.75003237]\n",
      " [-0.219322    0.02092973  0.24854027 -0.27726726 -1.25309763  3.45038225]] [-1.100834    1.48157326 -0.38073926]\n"
     ]
    }
   ],
   "source": [
    "# Create a logistic regression model, with 'none' as the penalty and 'multinomial' as multi_class\n",
    "logit_multi = LogisticRegression(penalty='none', multi_class='multinomial',max_iter = 1000)\n",
    "\n",
    "#Fit the model using the training set\n",
    "#logit_multi.fit(X_train, y_train)\n",
    "logit_multi.fit(scaled_X_train, y_train)\n",
    "\n",
    "# Get the coefficient estimates\n",
    "print(\"Logistic Regression Estimated Betas:\",logit_multi.coef_,logit_multi.intercept_)"
   ]
  },
  {
   "cell_type": "code",
   "execution_count": 37,
   "metadata": {},
   "outputs": [
    {
     "name": "stdout",
     "output_type": "stream",
     "text": [
      "train_score: 78.51%\n"
     ]
    }
   ],
   "source": [
    "# calculate initial accuracy on train\n",
    "train_score = logit_multi.score(scaled_X_train, y_train)\n",
    "\n",
    "print(f'train_score: {train_score*100:.2f}%')"
   ]
  },
  {
   "cell_type": "markdown",
   "metadata": {},
   "source": [
    "### Prediction on Test set"
   ]
  },
  {
   "cell_type": "code",
   "execution_count": 38,
   "metadata": {},
   "outputs": [
    {
     "data": {
      "text/html": [
       "<div>\n",
       "<style scoped>\n",
       "    .dataframe tbody tr th:only-of-type {\n",
       "        vertical-align: middle;\n",
       "    }\n",
       "\n",
       "    .dataframe tbody tr th {\n",
       "        vertical-align: top;\n",
       "    }\n",
       "\n",
       "    .dataframe thead th {\n",
       "        text-align: right;\n",
       "    }\n",
       "</style>\n",
       "<table border=\"1\" class=\"dataframe\">\n",
       "  <thead>\n",
       "    <tr style=\"text-align: right;\">\n",
       "      <th></th>\n",
       "      <th>sofifa_id</th>\n",
       "      <th>player_url</th>\n",
       "      <th>short_name</th>\n",
       "      <th>long_name</th>\n",
       "      <th>age</th>\n",
       "      <th>dob</th>\n",
       "      <th>height_cm</th>\n",
       "      <th>weight_kg</th>\n",
       "      <th>nationality</th>\n",
       "      <th>club</th>\n",
       "      <th>...</th>\n",
       "      <th>lwb</th>\n",
       "      <th>ldm</th>\n",
       "      <th>cdm</th>\n",
       "      <th>rdm</th>\n",
       "      <th>rwb</th>\n",
       "      <th>lb</th>\n",
       "      <th>lcb</th>\n",
       "      <th>cb</th>\n",
       "      <th>rcb</th>\n",
       "      <th>rb</th>\n",
       "    </tr>\n",
       "  </thead>\n",
       "  <tbody>\n",
       "    <tr>\n",
       "      <th>0</th>\n",
       "      <td>158023</td>\n",
       "      <td>https://sofifa.com/player/158023/lionel-messi/...</td>\n",
       "      <td>L. Messi</td>\n",
       "      <td>Lionel Andrés Messi Cuccittini</td>\n",
       "      <td>32</td>\n",
       "      <td>1987-06-24</td>\n",
       "      <td>170</td>\n",
       "      <td>72</td>\n",
       "      <td>Argentina</td>\n",
       "      <td>FC Barcelona</td>\n",
       "      <td>...</td>\n",
       "      <td>68+2</td>\n",
       "      <td>66+2</td>\n",
       "      <td>66+2</td>\n",
       "      <td>66+2</td>\n",
       "      <td>68+2</td>\n",
       "      <td>63+2</td>\n",
       "      <td>52+2</td>\n",
       "      <td>52+2</td>\n",
       "      <td>52+2</td>\n",
       "      <td>63+2</td>\n",
       "    </tr>\n",
       "    <tr>\n",
       "      <th>1</th>\n",
       "      <td>20801</td>\n",
       "      <td>https://sofifa.com/player/20801/c-ronaldo-dos-...</td>\n",
       "      <td>Cristiano Ronaldo</td>\n",
       "      <td>Cristiano Ronaldo dos Santos Aveiro</td>\n",
       "      <td>34</td>\n",
       "      <td>1985-02-05</td>\n",
       "      <td>187</td>\n",
       "      <td>83</td>\n",
       "      <td>Portugal</td>\n",
       "      <td>Juventus</td>\n",
       "      <td>...</td>\n",
       "      <td>65+3</td>\n",
       "      <td>61+3</td>\n",
       "      <td>61+3</td>\n",
       "      <td>61+3</td>\n",
       "      <td>65+3</td>\n",
       "      <td>61+3</td>\n",
       "      <td>53+3</td>\n",
       "      <td>53+3</td>\n",
       "      <td>53+3</td>\n",
       "      <td>61+3</td>\n",
       "    </tr>\n",
       "    <tr>\n",
       "      <th>2</th>\n",
       "      <td>190871</td>\n",
       "      <td>https://sofifa.com/player/190871/neymar-da-sil...</td>\n",
       "      <td>Neymar Jr</td>\n",
       "      <td>Neymar da Silva Santos Junior</td>\n",
       "      <td>27</td>\n",
       "      <td>1992-02-05</td>\n",
       "      <td>175</td>\n",
       "      <td>68</td>\n",
       "      <td>Brazil</td>\n",
       "      <td>Paris Saint-Germain</td>\n",
       "      <td>...</td>\n",
       "      <td>66+3</td>\n",
       "      <td>61+3</td>\n",
       "      <td>61+3</td>\n",
       "      <td>61+3</td>\n",
       "      <td>66+3</td>\n",
       "      <td>61+3</td>\n",
       "      <td>46+3</td>\n",
       "      <td>46+3</td>\n",
       "      <td>46+3</td>\n",
       "      <td>61+3</td>\n",
       "    </tr>\n",
       "    <tr>\n",
       "      <th>3</th>\n",
       "      <td>200389</td>\n",
       "      <td>https://sofifa.com/player/200389/jan-oblak/20/...</td>\n",
       "      <td>J. Oblak</td>\n",
       "      <td>Jan Oblak</td>\n",
       "      <td>26</td>\n",
       "      <td>1993-01-07</td>\n",
       "      <td>188</td>\n",
       "      <td>87</td>\n",
       "      <td>Slovenia</td>\n",
       "      <td>Atlético Madrid</td>\n",
       "      <td>...</td>\n",
       "      <td>NaN</td>\n",
       "      <td>NaN</td>\n",
       "      <td>NaN</td>\n",
       "      <td>NaN</td>\n",
       "      <td>NaN</td>\n",
       "      <td>NaN</td>\n",
       "      <td>NaN</td>\n",
       "      <td>NaN</td>\n",
       "      <td>NaN</td>\n",
       "      <td>NaN</td>\n",
       "    </tr>\n",
       "    <tr>\n",
       "      <th>4</th>\n",
       "      <td>183277</td>\n",
       "      <td>https://sofifa.com/player/183277/eden-hazard/2...</td>\n",
       "      <td>E. Hazard</td>\n",
       "      <td>Eden Hazard</td>\n",
       "      <td>28</td>\n",
       "      <td>1991-01-07</td>\n",
       "      <td>175</td>\n",
       "      <td>74</td>\n",
       "      <td>Belgium</td>\n",
       "      <td>Real Madrid</td>\n",
       "      <td>...</td>\n",
       "      <td>66+3</td>\n",
       "      <td>63+3</td>\n",
       "      <td>63+3</td>\n",
       "      <td>63+3</td>\n",
       "      <td>66+3</td>\n",
       "      <td>61+3</td>\n",
       "      <td>49+3</td>\n",
       "      <td>49+3</td>\n",
       "      <td>49+3</td>\n",
       "      <td>61+3</td>\n",
       "    </tr>\n",
       "  </tbody>\n",
       "</table>\n",
       "<p>5 rows × 104 columns</p>\n",
       "</div>"
      ],
      "text/plain": [
       "   sofifa_id                                         player_url  \\\n",
       "0     158023  https://sofifa.com/player/158023/lionel-messi/...   \n",
       "1      20801  https://sofifa.com/player/20801/c-ronaldo-dos-...   \n",
       "2     190871  https://sofifa.com/player/190871/neymar-da-sil...   \n",
       "3     200389  https://sofifa.com/player/200389/jan-oblak/20/...   \n",
       "4     183277  https://sofifa.com/player/183277/eden-hazard/2...   \n",
       "\n",
       "          short_name                            long_name  age         dob  \\\n",
       "0           L. Messi       Lionel Andrés Messi Cuccittini   32  1987-06-24   \n",
       "1  Cristiano Ronaldo  Cristiano Ronaldo dos Santos Aveiro   34  1985-02-05   \n",
       "2          Neymar Jr        Neymar da Silva Santos Junior   27  1992-02-05   \n",
       "3           J. Oblak                            Jan Oblak   26  1993-01-07   \n",
       "4          E. Hazard                          Eden Hazard   28  1991-01-07   \n",
       "\n",
       "   height_cm  weight_kg nationality                 club  ...   lwb   ldm  \\\n",
       "0        170         72   Argentina         FC Barcelona  ...  68+2  66+2   \n",
       "1        187         83    Portugal             Juventus  ...  65+3  61+3   \n",
       "2        175         68      Brazil  Paris Saint-Germain  ...  66+3  61+3   \n",
       "3        188         87    Slovenia      Atlético Madrid  ...   NaN   NaN   \n",
       "4        175         74     Belgium          Real Madrid  ...  66+3  63+3   \n",
       "\n",
       "    cdm   rdm   rwb    lb   lcb    cb   rcb    rb  \n",
       "0  66+2  66+2  68+2  63+2  52+2  52+2  52+2  63+2  \n",
       "1  61+3  61+3  65+3  61+3  53+3  53+3  53+3  61+3  \n",
       "2  61+3  61+3  66+3  61+3  46+3  46+3  46+3  61+3  \n",
       "3   NaN   NaN   NaN   NaN   NaN   NaN   NaN   NaN  \n",
       "4  63+3  63+3  66+3  61+3  49+3  49+3  49+3  61+3  \n",
       "\n",
       "[5 rows x 104 columns]"
      ]
     },
     "execution_count": 38,
     "metadata": {},
     "output_type": "execute_result"
    }
   ],
   "source": [
    "fifa20_df = pd.read_csv('data/players_20.csv')\n",
    "fifa20_df.head()"
   ]
  },
  {
   "cell_type": "code",
   "execution_count": 39,
   "metadata": {},
   "outputs": [],
   "source": [
    "fifa20_df_new = create_position(fifa20_df)\n",
    "fifa20_df_clean = clean_data_strings(fifa20_df_new)"
   ]
  },
  {
   "cell_type": "code",
   "execution_count": 40,
   "metadata": {},
   "outputs": [],
   "source": [
    "column_list =['attacking_crossing','attacking_finishing','attacking_heading_accuracy','attacking_short_passing',\n",
    "                        'attacking_volleys']\n",
    "df_attacking = fifa20_df_clean[column_list].mean(axis=1)\n",
    "#display(df_attacking)\n",
    "\n",
    "column_list =['skill_dribbling','skill_curve','skill_fk_accuracy','skill_long_passing',\n",
    "                        'skill_ball_control']\n",
    "df_skill = fifa20_df_clean[column_list].mean(axis=1)\n",
    "\n",
    "column_list =['movement_acceleration','movement_sprint_speed','movement_agility','movement_reactions',\n",
    "                        'movement_balance']\n",
    "df_movement = fifa20_df_clean[column_list].mean(axis=1)\n",
    "\n",
    "column_list =['power_shot_power','power_jumping','power_stamina',\"power_strength\",\"power_long_shots\"]\n",
    "df_power = fifa20_df_clean[column_list].mean(axis=1)\n",
    "\n",
    "column_list =[\"mentality_aggression\",\"mentality_interceptions\", \"mentality_positioning\",\"mentality_vision\",\n",
    "              \"mentality_penalties\",\"mentality_composure\"]\n",
    "df_mentality = fifa19_df_clean[column_list].mean(axis=1)\n",
    "\n",
    "column_list =[\"defending_marking\",\"defending_standing_tackle\",\"defending_sliding_tackle\"]\n",
    "df_defending = fifa19_df_clean[column_list].mean(axis=1)"
   ]
  },
  {
   "cell_type": "code",
   "execution_count": 41,
   "metadata": {},
   "outputs": [],
   "source": [
    "result_20 = pd.DataFrame(pd.concat([df_attacking, df_skill, df_movement, df_power, df_mentality, df_defending, \n",
    "                                    fifa20_df_clean[['team_position']], fifa20_df_clean[['position']]], axis=1, join='inner').values,\n",
    "                     columns = ['attacking_mean', 'skill_mean', 'mean_movement',\n",
    "                                'mean_power','mean_mentality','mean_defending', 'team_position', 'position'])\n",
    "\n",
    "result_20 = result_20.dropna()"
   ]
  },
  {
   "cell_type": "code",
   "execution_count": 42,
   "metadata": {},
   "outputs": [
    {
     "data": {
      "text/html": [
       "<div>\n",
       "<style scoped>\n",
       "    .dataframe tbody tr th:only-of-type {\n",
       "        vertical-align: middle;\n",
       "    }\n",
       "\n",
       "    .dataframe tbody tr th {\n",
       "        vertical-align: top;\n",
       "    }\n",
       "\n",
       "    .dataframe thead th {\n",
       "        text-align: right;\n",
       "    }\n",
       "</style>\n",
       "<table border=\"1\" class=\"dataframe\">\n",
       "  <thead>\n",
       "    <tr style=\"text-align: right;\">\n",
       "      <th></th>\n",
       "      <th>attacking_mean</th>\n",
       "      <th>skill_mean</th>\n",
       "      <th>mean_movement</th>\n",
       "      <th>mean_power</th>\n",
       "      <th>mean_mentality</th>\n",
       "      <th>mean_defending</th>\n",
       "      <th>team_position</th>\n",
       "      <th>position</th>\n",
       "      <th>position_class</th>\n",
       "    </tr>\n",
       "  </thead>\n",
       "  <tbody>\n",
       "    <tr>\n",
       "      <th>0</th>\n",
       "      <td>86.6</td>\n",
       "      <td>94.4</td>\n",
       "      <td>91.6</td>\n",
       "      <td>78.2</td>\n",
       "      <td>74.8333</td>\n",
       "      <td>27.3333</td>\n",
       "      <td>RW</td>\n",
       "      <td>Strikers</td>\n",
       "      <td>0.0</td>\n",
       "    </tr>\n",
       "    <tr>\n",
       "      <th>1</th>\n",
       "      <td>87.4</td>\n",
       "      <td>83</td>\n",
       "      <td>86.8</td>\n",
       "      <td>89.2</td>\n",
       "      <td>71.5</td>\n",
       "      <td>29</td>\n",
       "      <td>LW</td>\n",
       "      <td>Strikers</td>\n",
       "      <td>0.0</td>\n",
       "    </tr>\n",
       "    <tr>\n",
       "      <th>2</th>\n",
       "      <td>82</td>\n",
       "      <td>89.4</td>\n",
       "      <td>91</td>\n",
       "      <td>71</td>\n",
       "      <td>73.8333</td>\n",
       "      <td>28</td>\n",
       "      <td>CAM</td>\n",
       "      <td>Midfielder</td>\n",
       "      <td>1.0</td>\n",
       "    </tr>\n",
       "    <tr>\n",
       "      <th>4</th>\n",
       "      <td>79.6</td>\n",
       "      <td>86.8</td>\n",
       "      <td>92.2</td>\n",
       "      <td>73</td>\n",
       "      <td>80.6667</td>\n",
       "      <td>58.6667</td>\n",
       "      <td>LW</td>\n",
       "      <td>Strikers</td>\n",
       "      <td>0.0</td>\n",
       "    </tr>\n",
       "    <tr>\n",
       "      <th>5</th>\n",
       "      <td>80.8</td>\n",
       "      <td>87.2</td>\n",
       "      <td>79.6</td>\n",
       "      <td>81.4</td>\n",
       "      <td>72.8333</td>\n",
       "      <td>90.6667</td>\n",
       "      <td>RCM</td>\n",
       "      <td>Midfielder</td>\n",
       "      <td>1.0</td>\n",
       "    </tr>\n",
       "  </tbody>\n",
       "</table>\n",
       "</div>"
      ],
      "text/plain": [
       "  attacking_mean skill_mean mean_movement mean_power mean_mentality  \\\n",
       "0           86.6       94.4          91.6       78.2        74.8333   \n",
       "1           87.4         83          86.8       89.2           71.5   \n",
       "2             82       89.4            91         71        73.8333   \n",
       "4           79.6       86.8          92.2         73        80.6667   \n",
       "5           80.8       87.2          79.6       81.4        72.8333   \n",
       "\n",
       "  mean_defending team_position    position  position_class  \n",
       "0        27.3333            RW    Strikers             0.0  \n",
       "1             29            LW    Strikers             0.0  \n",
       "2             28           CAM  Midfielder             1.0  \n",
       "4        58.6667            LW    Strikers             0.0  \n",
       "5        90.6667           RCM  Midfielder             1.0  "
      ]
     },
     "execution_count": 42,
     "metadata": {},
     "output_type": "execute_result"
    }
   ],
   "source": [
    "result_20_new = create_position2(result_20)\n",
    "result_20_new.head()"
   ]
  },
  {
   "cell_type": "code",
   "execution_count": 43,
   "metadata": {},
   "outputs": [
    {
     "data": {
      "text/plain": [
       "0        0.0\n",
       "1        0.0\n",
       "2        1.0\n",
       "4        0.0\n",
       "5        1.0\n",
       "        ... \n",
       "17620    2.0\n",
       "17727    2.0\n",
       "17729    1.0\n",
       "17733    2.0\n",
       "17763    2.0\n",
       "Name: position_class, Length: 6585, dtype: float64"
      ]
     },
     "execution_count": 43,
     "metadata": {},
     "output_type": "execute_result"
    }
   ],
   "source": [
    "X_test = result_20_new.drop(['position', 'position_class', 'team_position'],axis=1)\n",
    "y_test = result_20_new['position_class']\n",
    "y_test"
   ]
  },
  {
   "cell_type": "code",
   "execution_count": 44,
   "metadata": {},
   "outputs": [
    {
     "data": {
      "text/html": [
       "<div>\n",
       "<style scoped>\n",
       "    .dataframe tbody tr th:only-of-type {\n",
       "        vertical-align: middle;\n",
       "    }\n",
       "\n",
       "    .dataframe tbody tr th {\n",
       "        vertical-align: top;\n",
       "    }\n",
       "\n",
       "    .dataframe thead th {\n",
       "        text-align: right;\n",
       "    }\n",
       "</style>\n",
       "<table border=\"1\" class=\"dataframe\">\n",
       "  <thead>\n",
       "    <tr style=\"text-align: right;\">\n",
       "      <th></th>\n",
       "      <th>attacking_mean</th>\n",
       "      <th>skill_mean</th>\n",
       "      <th>mean_movement</th>\n",
       "      <th>mean_power</th>\n",
       "      <th>mean_mentality</th>\n",
       "      <th>mean_defending</th>\n",
       "    </tr>\n",
       "  </thead>\n",
       "  <tbody>\n",
       "    <tr>\n",
       "      <th>0</th>\n",
       "      <td>3.276195</td>\n",
       "      <td>3.268494</td>\n",
       "      <td>2.618112</td>\n",
       "      <td>1.831833</td>\n",
       "      <td>2.089103</td>\n",
       "      <td>-1.544106</td>\n",
       "    </tr>\n",
       "    <tr>\n",
       "      <th>1</th>\n",
       "      <td>3.363506</td>\n",
       "      <td>2.233318</td>\n",
       "      <td>2.100473</td>\n",
       "      <td>3.354566</td>\n",
       "      <td>1.661970</td>\n",
       "      <td>-1.449393</td>\n",
       "    </tr>\n",
       "    <tr>\n",
       "      <th>2</th>\n",
       "      <td>2.774158</td>\n",
       "      <td>2.814469</td>\n",
       "      <td>2.553407</td>\n",
       "      <td>0.835135</td>\n",
       "      <td>1.960963</td>\n",
       "      <td>-1.506221</td>\n",
       "    </tr>\n",
       "    <tr>\n",
       "      <th>3</th>\n",
       "      <td>2.512225</td>\n",
       "      <td>2.578376</td>\n",
       "      <td>2.682817</td>\n",
       "      <td>1.111996</td>\n",
       "      <td>2.836585</td>\n",
       "      <td>0.236501</td>\n",
       "    </tr>\n",
       "    <tr>\n",
       "      <th>4</th>\n",
       "      <td>2.643191</td>\n",
       "      <td>2.614698</td>\n",
       "      <td>1.324013</td>\n",
       "      <td>2.274810</td>\n",
       "      <td>1.832823</td>\n",
       "      <td>2.054994</td>\n",
       "    </tr>\n",
       "  </tbody>\n",
       "</table>\n",
       "</div>"
      ],
      "text/plain": [
       "   attacking_mean  skill_mean  mean_movement  mean_power  mean_mentality  \\\n",
       "0        3.276195    3.268494       2.618112    1.831833        2.089103   \n",
       "1        3.363506    2.233318       2.100473    3.354566        1.661970   \n",
       "2        2.774158    2.814469       2.553407    0.835135        1.960963   \n",
       "3        2.512225    2.578376       2.682817    1.111996        2.836585   \n",
       "4        2.643191    2.614698       1.324013    2.274810        1.832823   \n",
       "\n",
       "   mean_defending  \n",
       "0       -1.544106  \n",
       "1       -1.449393  \n",
       "2       -1.506221  \n",
       "3        0.236501  \n",
       "4        2.054994  "
      ]
     },
     "execution_count": 44,
     "metadata": {},
     "output_type": "execute_result"
    }
   ],
   "source": [
    "scaled_X_test = pd.DataFrame(scaler.transform(X_test), columns = X_test.columns)\n",
    "scaled_X_test.head()"
   ]
  },
  {
   "cell_type": "code",
   "execution_count": 45,
   "metadata": {},
   "outputs": [
    {
     "name": "stdout",
     "output_type": "stream",
     "text": [
      "test_score: 43.66%\n"
     ]
    }
   ],
   "source": [
    "# OvR logistic regression\n",
    "# calculate accuracy on the test set\n",
    "test_score = logit_ovr.score(scaled_X_test, y_test)\n",
    "print(f'test_score: {test_score*100:.2f}%')"
   ]
  },
  {
   "cell_type": "code",
   "execution_count": 46,
   "metadata": {},
   "outputs": [
    {
     "name": "stdout",
     "output_type": "stream",
     "text": [
      "test_score: 41.14%\n"
     ]
    }
   ],
   "source": [
    "# Multinomial logistic regression\n",
    "# calculate accuracy on the test set\n",
    "test_score = logit_multi.score(scaled_X_test, y_test)\n",
    "print(f'test_score: {test_score*100:.2f}%')"
   ]
  },
  {
   "cell_type": "markdown",
   "metadata": {},
   "source": [
    "## Neural Networks"
   ]
  },
  {
   "cell_type": "code",
   "execution_count": 47,
   "metadata": {},
   "outputs": [
    {
     "data": {
      "text/plain": [
       "'2.2.0'"
      ]
     },
     "execution_count": 47,
     "metadata": {},
     "output_type": "execute_result"
    }
   ],
   "source": [
    "import tensorflow as tf\n",
    "from tensorflow.keras import optimizers\n",
    "tf.__version__"
   ]
  },
  {
   "cell_type": "code",
   "execution_count": 48,
   "metadata": {},
   "outputs": [
    {
     "data": {
      "text/html": [
       "<div>\n",
       "<style scoped>\n",
       "    .dataframe tbody tr th:only-of-type {\n",
       "        vertical-align: middle;\n",
       "    }\n",
       "\n",
       "    .dataframe tbody tr th {\n",
       "        vertical-align: top;\n",
       "    }\n",
       "\n",
       "    .dataframe thead th {\n",
       "        text-align: right;\n",
       "    }\n",
       "</style>\n",
       "<table border=\"1\" class=\"dataframe\">\n",
       "  <thead>\n",
       "    <tr style=\"text-align: right;\">\n",
       "      <th></th>\n",
       "      <th>position_Defender</th>\n",
       "      <th>position_Midfielder</th>\n",
       "      <th>position_Strikers</th>\n",
       "    </tr>\n",
       "  </thead>\n",
       "  <tbody>\n",
       "    <tr>\n",
       "      <th>0</th>\n",
       "      <td>0</td>\n",
       "      <td>0</td>\n",
       "      <td>1</td>\n",
       "    </tr>\n",
       "    <tr>\n",
       "      <th>1</th>\n",
       "      <td>0</td>\n",
       "      <td>0</td>\n",
       "      <td>1</td>\n",
       "    </tr>\n",
       "    <tr>\n",
       "      <th>2</th>\n",
       "      <td>0</td>\n",
       "      <td>1</td>\n",
       "      <td>0</td>\n",
       "    </tr>\n",
       "    <tr>\n",
       "      <th>4</th>\n",
       "      <td>0</td>\n",
       "      <td>1</td>\n",
       "      <td>0</td>\n",
       "    </tr>\n",
       "    <tr>\n",
       "      <th>5</th>\n",
       "      <td>1</td>\n",
       "      <td>0</td>\n",
       "      <td>0</td>\n",
       "    </tr>\n",
       "  </tbody>\n",
       "</table>\n",
       "</div>"
      ],
      "text/plain": [
       "   position_Defender  position_Midfielder  position_Strikers\n",
       "0                  0                    0                  1\n",
       "1                  0                    0                  1\n",
       "2                  0                    1                  0\n",
       "4                  0                    1                  0\n",
       "5                  1                    0                  0"
      ]
     },
     "execution_count": 48,
     "metadata": {},
     "output_type": "execute_result"
    }
   ],
   "source": [
    "one_hot_df = pd.get_dummies(result_19_new['position'], prefix='position')\n",
    "one_hot_df.head()"
   ]
  },
  {
   "cell_type": "code",
   "execution_count": 49,
   "metadata": {},
   "outputs": [
    {
     "data": {
      "text/plain": [
       "((6384, 6), (6384, 3))"
      ]
     },
     "execution_count": 49,
     "metadata": {},
     "output_type": "execute_result"
    }
   ],
   "source": [
    "# The predictor variables are all columns\n",
    "X_train_np = X_train.values.astype(np.float32)\n",
    "\n",
    "# The response variable is the one-hot-encoded values\n",
    "y_train_np = one_hot_df.values\n",
    "\n",
    "X_train_np.shape, y_train_np.shape\n",
    "#X_train_np.dtype, y_train_np.dtype"
   ]
  },
  {
   "cell_type": "code",
   "execution_count": 50,
   "metadata": {},
   "outputs": [],
   "source": [
    "# To build the MLP, we will use the keras library\n",
    "model = tf.keras.models.Sequential(name='FIFA')\n",
    "# The number of nodes in a hidden layer\n",
    "n_hidden = 100\n",
    "# The number of nodes in the input layer (features)\n",
    "n_input = 6\n",
    "# The number of nodes in the output layer\n",
    "n_output = 3\n",
    "\n",
    "# We add the first hidden layer with `n_hidden` number of neurons \n",
    "# and 'relu' activation\n",
    "model.add((tf.keras.layers.Dense(n_hidden, input_dim=n_input, activation = 'relu')))\n",
    "model.add((tf.keras.layers.Dense(n_hidden, activation = 'relu')))\n",
    "model.add((tf.keras.layers.Dense(n_hidden, activation = 'relu')))\n",
    "model.add((tf.keras.layers.Dense(n_hidden, activation = 'relu')))\n",
    "#model.add((tf.keras.layers.Dense(n_hidden, activation = 'relu')))\n",
    "\n",
    "# The second layer is the final layer in our case, using 'softmax' on the output labels\n",
    "model.add(tf.keras.layers.Dense(n_output, activation = 'softmax',name='output'))"
   ]
  },
  {
   "cell_type": "code",
   "execution_count": 51,
   "metadata": {},
   "outputs": [
    {
     "name": "stdout",
     "output_type": "stream",
     "text": [
      "Model: \"FIFA\"\n",
      "_________________________________________________________________\n",
      "Layer (type)                 Output Shape              Param #   \n",
      "=================================================================\n",
      "dense (Dense)                (None, 100)               700       \n",
      "_________________________________________________________________\n",
      "dense_1 (Dense)              (None, 100)               10100     \n",
      "_________________________________________________________________\n",
      "dense_2 (Dense)              (None, 100)               10100     \n",
      "_________________________________________________________________\n",
      "dense_3 (Dense)              (None, 100)               10100     \n",
      "_________________________________________________________________\n",
      "output (Dense)               (None, 3)                 303       \n",
      "=================================================================\n",
      "Total params: 31,303\n",
      "Trainable params: 31,303\n",
      "Non-trainable params: 0\n",
      "_________________________________________________________________\n"
     ]
    }
   ],
   "source": [
    "# Now we compile the model using 'categorical_crossentropy' loss, \n",
    "# optimizer as 'sgd' and 'accuracy' as a metric\n",
    "#optimizers.Adam(learning_rate=0.001)\n",
    "model.compile(optimizer='sgd', \n",
    "              #optimizers.Adam(learning_rate=0.001),\n",
    "              loss='categorical_crossentropy',\n",
    "              metrics=['accuracy'])\n",
    "\n",
    "# You can see an overview of the model you built using .summary()\n",
    "model.summary()"
   ]
  },
  {
   "cell_type": "code",
   "execution_count": 52,
   "metadata": {
    "scrolled": true
   },
   "outputs": [
    {
     "name": "stdout",
     "output_type": "stream",
     "text": [
      "Epoch 1/60\n",
      "180/180 [==============================] - 1s 4ms/step - loss: 1.2573 - accuracy: 0.6507 - val_loss: 0.6411 - val_accuracy: 0.6980\n",
      "Epoch 2/60\n",
      "180/180 [==============================] - 1s 3ms/step - loss: 0.5702 - accuracy: 0.7258 - val_loss: 0.5651 - val_accuracy: 0.7355\n",
      "Epoch 3/60\n",
      "180/180 [==============================] - 1s 3ms/step - loss: 0.5452 - accuracy: 0.7394 - val_loss: 0.6487 - val_accuracy: 0.6870\n",
      "Epoch 4/60\n",
      "180/180 [==============================] - 1s 3ms/step - loss: 0.5198 - accuracy: 0.7502 - val_loss: 0.6406 - val_accuracy: 0.7058\n",
      "Epoch 5/60\n",
      "180/180 [==============================] - 1s 4ms/step - loss: 0.5085 - accuracy: 0.7614 - val_loss: 0.5676 - val_accuracy: 0.7606\n",
      "Epoch 6/60\n",
      "180/180 [==============================] - 1s 3ms/step - loss: 0.5068 - accuracy: 0.7598 - val_loss: 0.6528 - val_accuracy: 0.6854\n",
      "Epoch 7/60\n",
      "180/180 [==============================] - 0s 3ms/step - loss: 0.4994 - accuracy: 0.7648 - val_loss: 0.7869 - val_accuracy: 0.6338\n",
      "Epoch 8/60\n",
      "180/180 [==============================] - 0s 3ms/step - loss: 0.4933 - accuracy: 0.7751 - val_loss: 0.5616 - val_accuracy: 0.7277\n",
      "Epoch 9/60\n",
      "180/180 [==============================] - 1s 3ms/step - loss: 0.4846 - accuracy: 0.7786 - val_loss: 0.6392 - val_accuracy: 0.7105\n",
      "Epoch 10/60\n",
      "180/180 [==============================] - 1s 3ms/step - loss: 0.4858 - accuracy: 0.7725 - val_loss: 0.5849 - val_accuracy: 0.7465\n",
      "Epoch 11/60\n",
      "180/180 [==============================] - 1s 4ms/step - loss: 0.4839 - accuracy: 0.7772 - val_loss: 0.5873 - val_accuracy: 0.7480\n",
      "Epoch 12/60\n",
      "180/180 [==============================] - 1s 3ms/step - loss: 0.4810 - accuracy: 0.7770 - val_loss: 0.6422 - val_accuracy: 0.7199\n",
      "Epoch 13/60\n",
      "180/180 [==============================] - 1s 3ms/step - loss: 0.4834 - accuracy: 0.7721 - val_loss: 0.5721 - val_accuracy: 0.7512\n",
      "Epoch 14/60\n",
      "180/180 [==============================] - 1s 3ms/step - loss: 0.4758 - accuracy: 0.7809 - val_loss: 0.6006 - val_accuracy: 0.7293\n",
      "Epoch 15/60\n",
      "180/180 [==============================] - 1s 3ms/step - loss: 0.4721 - accuracy: 0.7843 - val_loss: 0.6245 - val_accuracy: 0.7371\n",
      "Epoch 16/60\n",
      "180/180 [==============================] - 0s 3ms/step - loss: 0.4725 - accuracy: 0.7869 - val_loss: 0.5870 - val_accuracy: 0.7527\n",
      "Epoch 17/60\n",
      "180/180 [==============================] - 1s 3ms/step - loss: 0.4746 - accuracy: 0.7826 - val_loss: 0.5465 - val_accuracy: 0.7480\n",
      "Epoch 18/60\n",
      "180/180 [==============================] - 1s 3ms/step - loss: 0.4743 - accuracy: 0.7826 - val_loss: 0.5624 - val_accuracy: 0.7387\n",
      "Epoch 19/60\n",
      "180/180 [==============================] - 1s 3ms/step - loss: 0.4725 - accuracy: 0.7774 - val_loss: 0.5733 - val_accuracy: 0.7340\n",
      "Epoch 20/60\n",
      "180/180 [==============================] - 1s 3ms/step - loss: 0.4649 - accuracy: 0.7856 - val_loss: 0.5642 - val_accuracy: 0.7559\n",
      "Epoch 21/60\n",
      "180/180 [==============================] - 1s 3ms/step - loss: 0.4678 - accuracy: 0.7795 - val_loss: 0.5819 - val_accuracy: 0.7449\n",
      "Epoch 22/60\n",
      "180/180 [==============================] - 1s 4ms/step - loss: 0.4644 - accuracy: 0.7856 - val_loss: 0.5725 - val_accuracy: 0.7402\n",
      "Epoch 23/60\n",
      "180/180 [==============================] - 1s 3ms/step - loss: 0.4665 - accuracy: 0.7833 - val_loss: 0.6021 - val_accuracy: 0.7418\n",
      "Epoch 24/60\n",
      "180/180 [==============================] - 1s 3ms/step - loss: 0.4632 - accuracy: 0.7862 - val_loss: 0.6558 - val_accuracy: 0.7402\n",
      "Epoch 25/60\n",
      "180/180 [==============================] - 1s 3ms/step - loss: 0.4669 - accuracy: 0.7817 - val_loss: 0.5828 - val_accuracy: 0.7496\n",
      "Epoch 26/60\n",
      "180/180 [==============================] - 1s 3ms/step - loss: 0.4667 - accuracy: 0.7904 - val_loss: 0.5770 - val_accuracy: 0.7543\n",
      "Epoch 27/60\n",
      "180/180 [==============================] - 1s 3ms/step - loss: 0.4611 - accuracy: 0.7889 - val_loss: 0.5869 - val_accuracy: 0.7606\n",
      "Epoch 28/60\n",
      "180/180 [==============================] - 1s 3ms/step - loss: 0.4606 - accuracy: 0.7866 - val_loss: 0.5842 - val_accuracy: 0.7480\n",
      "Epoch 29/60\n",
      "180/180 [==============================] - 1s 3ms/step - loss: 0.4579 - accuracy: 0.7901 - val_loss: 0.6151 - val_accuracy: 0.7465\n",
      "Epoch 30/60\n",
      "180/180 [==============================] - 1s 3ms/step - loss: 0.4639 - accuracy: 0.7840 - val_loss: 0.5646 - val_accuracy: 0.7574\n",
      "Epoch 31/60\n",
      "180/180 [==============================] - 1s 3ms/step - loss: 0.4602 - accuracy: 0.7899 - val_loss: 0.5610 - val_accuracy: 0.7402\n",
      "Epoch 32/60\n",
      "180/180 [==============================] - 1s 3ms/step - loss: 0.4581 - accuracy: 0.7899 - val_loss: 0.5897 - val_accuracy: 0.7340\n",
      "Epoch 33/60\n",
      "180/180 [==============================] - 1s 3ms/step - loss: 0.4576 - accuracy: 0.7873 - val_loss: 0.5874 - val_accuracy: 0.7496\n",
      "Epoch 34/60\n",
      "180/180 [==============================] - 1s 3ms/step - loss: 0.4565 - accuracy: 0.7906 - val_loss: 0.5929 - val_accuracy: 0.7574\n",
      "Epoch 35/60\n",
      "180/180 [==============================] - 1s 3ms/step - loss: 0.4550 - accuracy: 0.7953 - val_loss: 0.5809 - val_accuracy: 0.7590\n",
      "Epoch 36/60\n",
      "180/180 [==============================] - 1s 3ms/step - loss: 0.4568 - accuracy: 0.7887 - val_loss: 0.5555 - val_accuracy: 0.7496\n",
      "Epoch 37/60\n",
      "180/180 [==============================] - 1s 3ms/step - loss: 0.4562 - accuracy: 0.7908 - val_loss: 0.5704 - val_accuracy: 0.7480\n",
      "Epoch 38/60\n",
      "180/180 [==============================] - 1s 3ms/step - loss: 0.4581 - accuracy: 0.7899 - val_loss: 0.5862 - val_accuracy: 0.7465\n",
      "Epoch 39/60\n",
      "180/180 [==============================] - 1s 3ms/step - loss: 0.4515 - accuracy: 0.7955 - val_loss: 0.5738 - val_accuracy: 0.7527\n",
      "Epoch 40/60\n",
      "180/180 [==============================] - 0s 3ms/step - loss: 0.4536 - accuracy: 0.7946 - val_loss: 0.5799 - val_accuracy: 0.7418\n",
      "Epoch 41/60\n",
      "180/180 [==============================] - 1s 3ms/step - loss: 0.4542 - accuracy: 0.7948 - val_loss: 0.5583 - val_accuracy: 0.7512\n",
      "Epoch 42/60\n",
      "180/180 [==============================] - 0s 3ms/step - loss: 0.4535 - accuracy: 0.7953 - val_loss: 0.5645 - val_accuracy: 0.7433\n",
      "Epoch 43/60\n",
      "180/180 [==============================] - 0s 3ms/step - loss: 0.4493 - accuracy: 0.7960 - val_loss: 0.5961 - val_accuracy: 0.7606\n",
      "Epoch 44/60\n",
      "180/180 [==============================] - 1s 3ms/step - loss: 0.4535 - accuracy: 0.7962 - val_loss: 0.5675 - val_accuracy: 0.7355\n",
      "Epoch 45/60\n",
      "180/180 [==============================] - 1s 4ms/step - loss: 0.4541 - accuracy: 0.7873 - val_loss: 0.5953 - val_accuracy: 0.7293\n",
      "Epoch 46/60\n",
      "180/180 [==============================] - 0s 3ms/step - loss: 0.4487 - accuracy: 0.7941 - val_loss: 0.6673 - val_accuracy: 0.6964\n",
      "Epoch 47/60\n",
      "180/180 [==============================] - 1s 3ms/step - loss: 0.4548 - accuracy: 0.7918 - val_loss: 0.5608 - val_accuracy: 0.7418\n",
      "Epoch 48/60\n",
      "180/180 [==============================] - 1s 3ms/step - loss: 0.4498 - accuracy: 0.7937 - val_loss: 0.5580 - val_accuracy: 0.7590\n",
      "Epoch 49/60\n",
      "180/180 [==============================] - 1s 3ms/step - loss: 0.4517 - accuracy: 0.7941 - val_loss: 0.5634 - val_accuracy: 0.7433\n",
      "Epoch 50/60\n",
      "180/180 [==============================] - 1s 3ms/step - loss: 0.4498 - accuracy: 0.7969 - val_loss: 0.5769 - val_accuracy: 0.7480\n",
      "Epoch 51/60\n",
      "180/180 [==============================] - 1s 3ms/step - loss: 0.4487 - accuracy: 0.7941 - val_loss: 0.5779 - val_accuracy: 0.7496\n",
      "Epoch 52/60\n",
      "180/180 [==============================] - 1s 3ms/step - loss: 0.4527 - accuracy: 0.7946 - val_loss: 0.5836 - val_accuracy: 0.7574\n",
      "Epoch 53/60\n",
      "180/180 [==============================] - 1s 3ms/step - loss: 0.4492 - accuracy: 0.7934 - val_loss: 0.6807 - val_accuracy: 0.7058\n",
      "Epoch 54/60\n",
      "180/180 [==============================] - 1s 3ms/step - loss: 0.4466 - accuracy: 0.7960 - val_loss: 0.5593 - val_accuracy: 0.7433\n",
      "Epoch 55/60\n",
      "180/180 [==============================] - 1s 3ms/step - loss: 0.4483 - accuracy: 0.7916 - val_loss: 0.5819 - val_accuracy: 0.7433\n",
      "Epoch 56/60\n",
      "180/180 [==============================] - 1s 3ms/step - loss: 0.4519 - accuracy: 0.7904 - val_loss: 0.5774 - val_accuracy: 0.7574\n",
      "Epoch 57/60\n",
      "180/180 [==============================] - 1s 3ms/step - loss: 0.4459 - accuracy: 0.7944 - val_loss: 0.5775 - val_accuracy: 0.7496\n",
      "Epoch 58/60\n"
     ]
    },
    {
     "name": "stdout",
     "output_type": "stream",
     "text": [
      "180/180 [==============================] - 1s 3ms/step - loss: 0.4495 - accuracy: 0.7965 - val_loss: 0.5700 - val_accuracy: 0.7590\n",
      "Epoch 59/60\n",
      "180/180 [==============================] - 1s 4ms/step - loss: 0.4447 - accuracy: 0.7955 - val_loss: 0.5999 - val_accuracy: 0.7371\n",
      "Epoch 60/60\n",
      "180/180 [==============================] - 1s 3ms/step - loss: 0.4458 - accuracy: 0.7988 - val_loss: 0.5902 - val_accuracy: 0.7465\n"
     ]
    }
   ],
   "source": [
    "history = model.fit(X_train_np,y_train_np, epochs = 60, \n",
    "                    batch_size = 32,verbose=1,validation_split=0.1)"
   ]
  },
  {
   "cell_type": "code",
   "execution_count": 53,
   "metadata": {},
   "outputs": [
    {
     "data": {
      "text/plain": [
       "Text(0.5, 0.98, 'MLP Training')"
      ]
     },
     "execution_count": 53,
     "metadata": {},
     "output_type": "execute_result"
    },
    {
     "data": {
      "image/png": "[encoded data removed]",
      "text/plain": [
       "<Figure size 1152x288 with 2 Axes>"
      ]
     },
     "metadata": {
      "needs_background": "light"
     },
     "output_type": "display_data"
    }
   ],
   "source": [
    "# Here we plot the training and validation loss and accuracy\n",
    "\n",
    "fig, ax = plt.subplots(1,2,figsize = (16,4))\n",
    "ax[0].plot(history.history['loss'],'r',label = 'Training Loss')\n",
    "ax[0].plot(history.history['val_loss'],'b',label = 'Validation Loss')\n",
    "ax[1].plot(history.history['accuracy'],'r',label = 'Training Accuracy')\n",
    "ax[1].plot(history.history['val_accuracy'],'b',label = 'Validation Accuracy')\n",
    "ax[0].legend()\n",
    "ax[1].legend()\n",
    "ax[0].set_xlabel('Epochs')\n",
    "ax[1].set_xlabel('Epochs');\n",
    "ax[0].set_ylabel('Loss')\n",
    "ax[1].set_ylabel('Accuracy %');\n",
    "fig.suptitle('MLP Training', fontsize = 24)"
   ]
  },
  {
   "cell_type": "code",
   "execution_count": 54,
   "metadata": {},
   "outputs": [],
   "source": [
    "one_hot_df = pd.get_dummies(result_20_new['position'], prefix='position')\n",
    "#one_hot_df"
   ]
  },
  {
   "cell_type": "code",
   "execution_count": 55,
   "metadata": {},
   "outputs": [
    {
     "data": {
      "text/plain": [
       "((6585, 6), (6585, 3))"
      ]
     },
     "execution_count": 55,
     "metadata": {},
     "output_type": "execute_result"
    }
   ],
   "source": [
    "# The predictor variables are all columns\n",
    "X_test_np = X_test.values.astype(np.float32)\n",
    "\n",
    "# The response variable is the one-hot-encoded values\n",
    "y_test_np = one_hot_df.values\n",
    "\n",
    "X_test_np.shape, y_test_np.shape"
   ]
  },
  {
   "cell_type": "code",
   "execution_count": 56,
   "metadata": {
    "scrolled": true
   },
   "outputs": [
    {
     "name": "stdout",
     "output_type": "stream",
     "text": [
      "200/200 [==============================] - 0s 2ms/step - loss: 0.4627 - accuracy: 0.7887\n",
      "206/206 [==============================] - 1s 3ms/step - loss: 2.0131 - accuracy: 0.4352\n",
      "The training set accuracy for the model is 0.788690447807312    \n",
      "The test set accuracy for the model is 0.43523159623146057\n"
     ]
    }
   ],
   "source": [
    "train_accuracy = model.evaluate(X_train_np, y_train_np)[1]\n",
    "test_accuracy = model.evaluate(X_test_np, y_test_np)[1]\n",
    "print(f'The training set accuracy for the model is {train_accuracy}\\\n",
    "    \\nThe test set accuracy for the model is {test_accuracy}')"
   ]
  },
  {
   "cell_type": "markdown",
   "metadata": {},
   "source": [
    "### Using the original team_position"
   ]
  },
  {
   "cell_type": "code",
   "execution_count": 57,
   "metadata": {},
   "outputs": [],
   "source": [
    "one_hot_df = pd.get_dummies(result_19_new['team_position'], prefix='team')\n",
    "one_hot_df.head()\n",
    "\n",
    "# The response variable is the one-hot-encoded values\n",
    "y_train_np = one_hot_df.values"
   ]
  },
  {
   "cell_type": "code",
   "execution_count": 58,
   "metadata": {},
   "outputs": [
    {
     "name": "stdout",
     "output_type": "stream",
     "text": [
      "Model: \"FIFA\"\n",
      "_________________________________________________________________\n",
      "Layer (type)                 Output Shape              Param #   \n",
      "=================================================================\n",
      "dense_4 (Dense)              (None, 100)               700       \n",
      "_________________________________________________________________\n",
      "dense_5 (Dense)              (None, 100)               10100     \n",
      "_________________________________________________________________\n",
      "dense_6 (Dense)              (None, 100)               10100     \n",
      "_________________________________________________________________\n",
      "dense_7 (Dense)              (None, 100)               10100     \n",
      "_________________________________________________________________\n",
      "dense_8 (Dense)              (None, 100)               10100     \n",
      "_________________________________________________________________\n",
      "dense_9 (Dense)              (None, 100)               10100     \n",
      "_________________________________________________________________\n",
      "output (Dense)               (None, 26)                2626      \n",
      "=================================================================\n",
      "Total params: 53,826\n",
      "Trainable params: 53,826\n",
      "Non-trainable params: 0\n",
      "_________________________________________________________________\n"
     ]
    }
   ],
   "source": [
    "# To build the MLP, we will use the keras library\n",
    "model = tf.keras.models.Sequential(name='FIFA')\n",
    "# The number of nodes in a hidden layer\n",
    "n_hidden = 100\n",
    "# The number of nodes in the input layer (features)\n",
    "n_input = 6\n",
    "# The number of nodes in the output layer\n",
    "n_output = 26\n",
    "\n",
    "# We add the first hidden layer with `n_hidden` number of neurons \n",
    "# and 'relu' activation\n",
    "model.add((tf.keras.layers.Dense(n_hidden, input_dim=n_input, activation = 'relu')))\n",
    "model.add((tf.keras.layers.Dense(n_hidden, activation = 'relu')))\n",
    "model.add((tf.keras.layers.Dense(n_hidden, activation = 'relu')))\n",
    "model.add((tf.keras.layers.Dense(n_hidden, activation = 'relu')))\n",
    "model.add((tf.keras.layers.Dense(n_hidden, activation = 'relu')))\n",
    "model.add((tf.keras.layers.Dense(n_hidden, activation = 'relu')))\n",
    "\n",
    "# The second layer is the final layer in our case, using 'softmax' on the output labels\n",
    "model.add(tf.keras.layers.Dense(n_output, activation = 'softmax',name='output'))\n",
    "\n",
    "# Now we compile the model using 'categorical_crossentropy' loss, \n",
    "# optimizer as 'sgd' and 'accuracy' as a metric\n",
    "#optimizers.Adam(learning_rate=0.001)\n",
    "model.compile(optimizer='sgd', \n",
    "              #optimizers.Adam(learning_rate=0.001),\n",
    "              loss='categorical_crossentropy',\n",
    "              metrics=['accuracy'])\n",
    "\n",
    "# You can see an overview of the model you built using .summary()\n",
    "model.summary()"
   ]
  },
  {
   "cell_type": "code",
   "execution_count": 59,
   "metadata": {
    "scrolled": true
   },
   "outputs": [
    {
     "name": "stdout",
     "output_type": "stream",
     "text": [
      "Epoch 1/60\n",
      "180/180 [==============================] - 1s 5ms/step - loss: 2.4762 - accuracy: 0.2162 - val_loss: 2.4290 - val_accuracy: 0.1878\n",
      "Epoch 2/60\n",
      "180/180 [==============================] - 1s 4ms/step - loss: 2.1845 - accuracy: 0.2618 - val_loss: 2.2369 - val_accuracy: 0.2629\n",
      "Epoch 3/60\n",
      "180/180 [==============================] - 1s 4ms/step - loss: 2.1093 - accuracy: 0.2748 - val_loss: 2.3098 - val_accuracy: 0.2254\n",
      "Epoch 4/60\n",
      "180/180 [==============================] - 1s 3ms/step - loss: 2.0549 - accuracy: 0.2896 - val_loss: 2.2563 - val_accuracy: 0.2629\n",
      "Epoch 5/60\n",
      "180/180 [==============================] - 1s 3ms/step - loss: 2.0314 - accuracy: 0.2910 - val_loss: 2.2040 - val_accuracy: 0.2504\n",
      "Epoch 6/60\n",
      "180/180 [==============================] - 1s 3ms/step - loss: 2.0098 - accuracy: 0.2921 - val_loss: 2.2730 - val_accuracy: 0.2520\n",
      "Epoch 7/60\n",
      "180/180 [==============================] - 1s 3ms/step - loss: 1.9766 - accuracy: 0.2982 - val_loss: 2.5875 - val_accuracy: 0.1909\n",
      "Epoch 8/60\n",
      "180/180 [==============================] - 1s 3ms/step - loss: 1.9741 - accuracy: 0.3039 - val_loss: 2.1822 - val_accuracy: 0.2551\n",
      "Epoch 9/60\n",
      "180/180 [==============================] - 1s 3ms/step - loss: 1.9817 - accuracy: 0.3137 - val_loss: 2.1594 - val_accuracy: 0.2441\n",
      "Epoch 10/60\n",
      "180/180 [==============================] - 1s 3ms/step - loss: 1.9662 - accuracy: 0.2966 - val_loss: 2.3955 - val_accuracy: 0.2394\n",
      "Epoch 11/60\n",
      "180/180 [==============================] - 1s 3ms/step - loss: 1.9536 - accuracy: 0.3010 - val_loss: 2.1856 - val_accuracy: 0.2457\n",
      "Epoch 12/60\n",
      "180/180 [==============================] - 1s 3ms/step - loss: 1.9555 - accuracy: 0.3137 - val_loss: 2.2361 - val_accuracy: 0.2285\n",
      "Epoch 13/60\n",
      "180/180 [==============================] - 1s 3ms/step - loss: 1.9465 - accuracy: 0.3086 - val_loss: 2.2966 - val_accuracy: 0.2645\n",
      "Epoch 14/60\n",
      "180/180 [==============================] - 1s 3ms/step - loss: 1.9392 - accuracy: 0.3091 - val_loss: 2.1688 - val_accuracy: 0.2504\n",
      "Epoch 15/60\n",
      "180/180 [==============================] - 1s 3ms/step - loss: 1.9350 - accuracy: 0.3170 - val_loss: 2.1600 - val_accuracy: 0.2394\n",
      "Epoch 16/60\n",
      "180/180 [==============================] - 1s 3ms/step - loss: 1.9362 - accuracy: 0.3147 - val_loss: 2.1428 - val_accuracy: 0.2629\n",
      "Epoch 17/60\n",
      "180/180 [==============================] - 1s 3ms/step - loss: 1.9269 - accuracy: 0.3107 - val_loss: 2.1947 - val_accuracy: 0.2520\n",
      "Epoch 18/60\n",
      "180/180 [==============================] - 1s 4ms/step - loss: 1.9137 - accuracy: 0.3211 - val_loss: 2.1829 - val_accuracy: 0.2613\n",
      "Epoch 19/60\n",
      "180/180 [==============================] - 1s 4ms/step - loss: 1.9268 - accuracy: 0.3236 - val_loss: 2.2075 - val_accuracy: 0.2426\n",
      "Epoch 20/60\n",
      "180/180 [==============================] - 1s 3ms/step - loss: 1.9227 - accuracy: 0.3173 - val_loss: 2.2385 - val_accuracy: 0.2457\n",
      "Epoch 21/60\n",
      "180/180 [==============================] - 1s 3ms/step - loss: 1.9127 - accuracy: 0.3302 - val_loss: 2.1466 - val_accuracy: 0.2379\n",
      "Epoch 22/60\n",
      "180/180 [==============================] - 1s 3ms/step - loss: 1.9138 - accuracy: 0.3173 - val_loss: 2.2450 - val_accuracy: 0.2520\n",
      "Epoch 23/60\n",
      "180/180 [==============================] - 1s 3ms/step - loss: 1.9110 - accuracy: 0.3222 - val_loss: 2.1931 - val_accuracy: 0.2316\n",
      "Epoch 24/60\n",
      "180/180 [==============================] - 1s 3ms/step - loss: 1.9055 - accuracy: 0.3300 - val_loss: 2.1807 - val_accuracy: 0.2441\n",
      "Epoch 25/60\n",
      "180/180 [==============================] - 1s 4ms/step - loss: 1.8997 - accuracy: 0.3166 - val_loss: 2.1639 - val_accuracy: 0.2457\n",
      "Epoch 26/60\n",
      "180/180 [==============================] - 1s 3ms/step - loss: 1.9011 - accuracy: 0.3217 - val_loss: 2.2300 - val_accuracy: 0.2535\n",
      "Epoch 27/60\n",
      "180/180 [==============================] - 1s 3ms/step - loss: 1.9008 - accuracy: 0.3264 - val_loss: 2.1788 - val_accuracy: 0.2567\n",
      "Epoch 28/60\n",
      "180/180 [==============================] - 1s 3ms/step - loss: 1.8981 - accuracy: 0.3269 - val_loss: 2.3096 - val_accuracy: 0.2457\n",
      "Epoch 29/60\n",
      "180/180 [==============================] - 1s 3ms/step - loss: 1.9002 - accuracy: 0.3246 - val_loss: 2.2216 - val_accuracy: 0.2363\n",
      "Epoch 30/60\n",
      "180/180 [==============================] - 1s 3ms/step - loss: 1.8909 - accuracy: 0.3300 - val_loss: 2.2601 - val_accuracy: 0.2254\n",
      "Epoch 31/60\n",
      "180/180 [==============================] - 1s 3ms/step - loss: 1.8929 - accuracy: 0.3332 - val_loss: 2.2777 - val_accuracy: 0.2457\n",
      "Epoch 32/60\n",
      "180/180 [==============================] - 1s 4ms/step - loss: 1.8905 - accuracy: 0.3318 - val_loss: 2.2314 - val_accuracy: 0.2332\n",
      "Epoch 33/60\n",
      "180/180 [==============================] - 1s 3ms/step - loss: 1.8971 - accuracy: 0.3278 - val_loss: 2.2542 - val_accuracy: 0.2363\n",
      "Epoch 34/60\n",
      "180/180 [==============================] - 1s 3ms/step - loss: 1.8922 - accuracy: 0.3290 - val_loss: 2.1489 - val_accuracy: 0.2441\n",
      "Epoch 35/60\n",
      "180/180 [==============================] - 1s 4ms/step - loss: 1.8932 - accuracy: 0.3276 - val_loss: 2.1633 - val_accuracy: 0.2504\n",
      "Epoch 36/60\n",
      "180/180 [==============================] - 1s 3ms/step - loss: 1.8870 - accuracy: 0.3312 - val_loss: 2.2500 - val_accuracy: 0.2394\n",
      "Epoch 37/60\n",
      "180/180 [==============================] - 1s 3ms/step - loss: 1.8860 - accuracy: 0.3326 - val_loss: 2.1975 - val_accuracy: 0.2441\n",
      "Epoch 38/60\n",
      "180/180 [==============================] - 1s 3ms/step - loss: 1.8867 - accuracy: 0.3352 - val_loss: 2.1953 - val_accuracy: 0.2379\n",
      "Epoch 39/60\n",
      "180/180 [==============================] - 1s 3ms/step - loss: 1.8810 - accuracy: 0.3323 - val_loss: 2.1897 - val_accuracy: 0.2285\n",
      "Epoch 40/60\n",
      "180/180 [==============================] - 1s 3ms/step - loss: 1.8844 - accuracy: 0.3286 - val_loss: 2.2242 - val_accuracy: 0.2723\n",
      "Epoch 41/60\n",
      "180/180 [==============================] - 1s 3ms/step - loss: 1.8762 - accuracy: 0.3283 - val_loss: 2.2165 - val_accuracy: 0.2441\n",
      "Epoch 42/60\n",
      "180/180 [==============================] - 1s 4ms/step - loss: 1.8876 - accuracy: 0.3318 - val_loss: 2.1921 - val_accuracy: 0.2457\n",
      "Epoch 43/60\n",
      "180/180 [==============================] - 1s 3ms/step - loss: 1.8761 - accuracy: 0.3356 - val_loss: 2.1745 - val_accuracy: 0.2598\n",
      "Epoch 44/60\n",
      "180/180 [==============================] - 1s 3ms/step - loss: 1.8749 - accuracy: 0.3305 - val_loss: 2.2984 - val_accuracy: 0.2394\n",
      "Epoch 45/60\n",
      "180/180 [==============================] - 1s 3ms/step - loss: 1.8764 - accuracy: 0.3368 - val_loss: 2.2038 - val_accuracy: 0.2488\n",
      "Epoch 46/60\n",
      "180/180 [==============================] - 1s 3ms/step - loss: 1.8738 - accuracy: 0.3351 - val_loss: 2.2054 - val_accuracy: 0.2504\n",
      "Epoch 47/60\n",
      "180/180 [==============================] - 1s 3ms/step - loss: 1.8685 - accuracy: 0.3354 - val_loss: 2.2522 - val_accuracy: 0.2535\n",
      "Epoch 48/60\n",
      "180/180 [==============================] - 1s 4ms/step - loss: 1.8693 - accuracy: 0.3354 - val_loss: 2.2346 - val_accuracy: 0.2379\n",
      "Epoch 49/60\n",
      "180/180 [==============================] - 1s 4ms/step - loss: 1.8686 - accuracy: 0.3333 - val_loss: 2.2401 - val_accuracy: 0.2520\n",
      "Epoch 50/60\n",
      "180/180 [==============================] - 1s 3ms/step - loss: 1.8638 - accuracy: 0.3431 - val_loss: 2.3492 - val_accuracy: 0.2269\n",
      "Epoch 51/60\n",
      "180/180 [==============================] - 1s 3ms/step - loss: 1.8625 - accuracy: 0.3401 - val_loss: 2.2606 - val_accuracy: 0.2363\n",
      "Epoch 52/60\n",
      "180/180 [==============================] - 1s 3ms/step - loss: 1.8598 - accuracy: 0.3436 - val_loss: 2.2350 - val_accuracy: 0.2269\n",
      "Epoch 53/60\n",
      "180/180 [==============================] - 1s 3ms/step - loss: 1.8634 - accuracy: 0.3332 - val_loss: 2.1917 - val_accuracy: 0.2441\n",
      "Epoch 54/60\n",
      "180/180 [==============================] - 1s 3ms/step - loss: 1.8612 - accuracy: 0.3433 - val_loss: 2.1858 - val_accuracy: 0.2535\n",
      "Epoch 55/60\n",
      "180/180 [==============================] - 1s 3ms/step - loss: 1.8603 - accuracy: 0.3382 - val_loss: 2.1848 - val_accuracy: 0.2441\n",
      "Epoch 56/60\n",
      "180/180 [==============================] - 1s 3ms/step - loss: 1.8491 - accuracy: 0.3417 - val_loss: 2.1971 - val_accuracy: 0.2535\n",
      "Epoch 57/60\n",
      "180/180 [==============================] - 1s 3ms/step - loss: 1.8514 - accuracy: 0.3387 - val_loss: 2.2593 - val_accuracy: 0.2410\n",
      "Epoch 58/60\n"
     ]
    },
    {
     "name": "stdout",
     "output_type": "stream",
     "text": [
      "180/180 [==============================] - 1s 3ms/step - loss: 1.8573 - accuracy: 0.3339 - val_loss: 2.1761 - val_accuracy: 0.2394\n",
      "Epoch 59/60\n",
      "180/180 [==============================] - 1s 3ms/step - loss: 1.8569 - accuracy: 0.3314 - val_loss: 2.1760 - val_accuracy: 0.2598\n",
      "Epoch 60/60\n",
      "180/180 [==============================] - 1s 4ms/step - loss: 1.8482 - accuracy: 0.3429 - val_loss: 2.2102 - val_accuracy: 0.2285\n"
     ]
    }
   ],
   "source": [
    "history = model.fit(X_train_np,y_train_np, epochs = 60, batch_size = 32,verbose=1,validation_split=0.1)"
   ]
  },
  {
   "cell_type": "code",
   "execution_count": 60,
   "metadata": {},
   "outputs": [
    {
     "data": {
      "text/plain": [
       "Text(0.5, 0.98, 'MLP Training')"
      ]
     },
     "execution_count": 60,
     "metadata": {},
     "output_type": "execute_result"
    },
    {
     "data": {
      "image/png": "[encoded data removed]",
      "text/plain": [
       "<Figure size 1152x288 with 2 Axes>"
      ]
     },
     "metadata": {
      "needs_background": "light"
     },
     "output_type": "display_data"
    }
   ],
   "source": [
    "# Here we plot the training and validation loss and accuracy\n",
    "\n",
    "fig, ax = plt.subplots(1,2,figsize = (16,4))\n",
    "ax[0].plot(history.history['loss'],'r',label = 'Training Loss')\n",
    "ax[0].plot(history.history['val_loss'],'b',label = 'Validation Loss')\n",
    "ax[1].plot(history.history['accuracy'],'r',label = 'Training Accuracy')\n",
    "ax[1].plot(history.history['val_accuracy'],'b',label = 'Validation Accuracy')\n",
    "ax[0].legend()\n",
    "ax[1].legend()\n",
    "ax[0].set_xlabel('Epochs')\n",
    "ax[1].set_xlabel('Epochs');\n",
    "ax[0].set_ylabel('Loss')\n",
    "ax[1].set_ylabel('Accuracy %');\n",
    "fig.suptitle('MLP Training', fontsize = 24)"
   ]
  },
  {
   "cell_type": "code",
   "execution_count": 61,
   "metadata": {},
   "outputs": [],
   "source": [
    "one_hot_df = pd.get_dummies(result_20_new['team_position'], prefix='team')\n",
    "one_hot_df.head()\n",
    "\n",
    "# The response variable is the one-hot-encoded values\n",
    "y_test_np = one_hot_df.values"
   ]
  },
  {
   "cell_type": "code",
   "execution_count": 62,
   "metadata": {},
   "outputs": [
    {
     "name": "stdout",
     "output_type": "stream",
     "text": [
      "200/200 [==============================] - 1s 3ms/step - loss: 1.9494 - accuracy: 0.3029\n",
      "206/206 [==============================] - 1s 2ms/step - loss: 4.0269 - accuracy: 0.1239\n",
      "The training set accuracy for the model is 0.3029448688030243    \n",
      "The test set accuracy for the model is 0.12391799688339233\n"
     ]
    }
   ],
   "source": [
    "train_accuracy = model.evaluate(X_train_np, y_train_np)[1]\n",
    "test_accuracy = model.evaluate(X_test_np, y_test_np)[1]\n",
    "print(f'The training set accuracy for the model is {train_accuracy}\\\n",
    "    \\nThe test set accuracy for the model is {test_accuracy}')"
   ]
  },
  {
   "cell_type": "code",
   "execution_count": null,
   "metadata": {},
   "outputs": [],
   "source": []
  }
 ],
 "metadata": {
  "kernelspec": {
   "display_name": "Python 3",
   "language": "python",
   "name": "python3"
  },
  "language_info": {
   "codemirror_mode": {
    "name": "ipython",
    "version": 3
   },
   "file_extension": ".py",
   "mimetype": "text/x-python",
   "name": "python",
   "nbconvert_exporter": "python",
   "pygments_lexer": "ipython3",
   "version": "3.7.6"
  }
 },
 "nbformat": 4,
 "nbformat_minor": 4
}
