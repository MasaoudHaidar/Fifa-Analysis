{
 "cells": [
  {
   "cell_type": "code",
   "execution_count": 2,
   "metadata": {},
   "outputs": [],
   "source": [
    "%matplotlib inline\n",
    "import math\n",
    "import numpy as np\n",
    "import pandas as pd\n",
    "import seaborn as sns\n",
    "from collections import Counter\n",
    "import matplotlib.pyplot as plt\n",
    "from sklearn.utils import shuffle\n",
    "from sklearn.linear_model import Lasso\n",
    "from sklearn.metrics import mean_squared_error\n",
    "from sklearn.linear_model import LinearRegression\n",
    "from sklearn.model_selection import cross_validate\n",
    "from sklearn.model_selection import train_test_split\n",
    "from sklearn.preprocessing import PolynomialFeatures\n",
    "\n",
    "import warnings"
   ]
  },
  {
   "cell_type": "code",
   "execution_count": 3,
   "metadata": {},
   "outputs": [],
   "source": [
    "player15_df = pd.read_csv('./data/players_15.csv')\n",
    "player16_df = pd.read_csv('./data/players_16.csv')\n",
    "player17_df = pd.read_csv('./data/players_17.csv')\n",
    "player18_df = pd.read_csv('./data/players_18.csv')\n",
    "player19_df = pd.read_csv('./data/players_19.csv')\n",
    "player20_df = pd.read_csv('./data/players_20.csv')"
   ]
  },
  {
   "cell_type": "code",
   "execution_count": 4,
   "metadata": {},
   "outputs": [],
   "source": [
    "columns_to_drop = [\"sofifa_id\", \"player_url\", \"long_name\", \"wage_eur\", \"real_face\", \"height_cm\", \"weight_kg\", \"nationality\"]\n",
    "def clean_player_df(player_df):\n",
    "    return player_df.drop(columns_to_drop, axis=1)"
   ]
  },
  {
   "cell_type": "code",
   "execution_count": 5,
   "metadata": {},
   "outputs": [],
   "source": [
    "player15_cleaned_df = clean_player_df(player15_df)\n",
    "player16_cleaned_df = clean_player_df(player16_df)\n",
    "player17_cleaned_df = clean_player_df(player17_df)\n",
    "player18_cleaned_df = clean_player_df(player18_df)\n",
    "player19_cleaned_df = clean_player_df(player19_df)\n",
    "player20_cleaned_df = clean_player_df(player20_df)"
   ]
  },
  {
   "cell_type": "code",
   "execution_count": 6,
   "metadata": {},
   "outputs": [],
   "source": [
    "player_trait_columns = [\"overall\", \"pace\" \"shooting\",\"passing\",\"dribbling\" \"defending\"]"
   ]
  },
  {
   "cell_type": "code",
   "execution_count": 7,
   "metadata": {},
   "outputs": [
    {
     "data": {
      "text/plain": [
       "(15465, 192)"
      ]
     },
     "execution_count": 7,
     "metadata": {},
     "output_type": "execute_result"
    }
   ],
   "source": [
    "player_15_16_joined_stayed_df = player15_cleaned_df.join(player16_cleaned_df, lsuffix='_15', rsuffix='_16')\n",
    "player_15_16_joined_stayed_df.shape"
   ]
  },
  {
   "cell_type": "code",
   "execution_count": 8,
   "metadata": {},
   "outputs": [
    {
     "data": {
      "text/plain": [
       "(47, 192)"
      ]
     },
     "execution_count": 8,
     "metadata": {},
     "output_type": "execute_result"
    }
   ],
   "source": [
    "# player_15_16_joined_stayed_df.head()\n",
    "player_15_16_joined_stayed_df = player_15_16_joined_stayed_df[player_15_16_joined_stayed_df[\"club_15\"] == player_15_16_joined_stayed_df[\"club_16\"]]\n",
    "player_15_16_joined_stayed_df.shape"
   ]
  },
  {
   "cell_type": "code",
   "execution_count": 9,
   "metadata": {},
   "outputs": [
    {
     "data": {
      "text/plain": [
       "(34, 192)"
      ]
     },
     "execution_count": 9,
     "metadata": {},
     "output_type": "execute_result"
    }
   ],
   "source": [
    "player_15_16_joined_stayed_ovr_increased = player_15_16_joined_stayed_df[player_15_16_joined_stayed_df[\"overall_16\"] > player_15_16_joined_stayed_df[\"overall_15\"]]\n",
    "player_15_16_joined_stayed_ovr_increased.shape"
   ]
  },
  {
   "cell_type": "code",
   "execution_count": 10,
   "metadata": {},
   "outputs": [
    {
     "data": {
      "text/plain": [
       "club_16\n",
       "AD Alcorcón                1\n",
       "AFC Wimbledon              1\n",
       "Arsenal                    1\n",
       "Bayer 04 Leverkusen        1\n",
       "Celtic                     1\n",
       "Chelsea                    1\n",
       "Club Brugge KV             1\n",
       "Club Olimpo                1\n",
       "Clube Sport Marítimo       1\n",
       "Colo-Colo                  1\n",
       "FC Augsburg                1\n",
       "FC Barcelona               1\n",
       "FC Seoul                   1\n",
       "FK Haugesund               1\n",
       "Fiorentina                 1\n",
       "Fulham                     1\n",
       "Galatasaray SK             1\n",
       "Hannover 96                1\n",
       "KAA Gent                   1\n",
       "Lazio                      1\n",
       "Mersin İdman Yurdu         1\n",
       "Montpellier HSC            1\n",
       "Notts County               1\n",
       "PFC CSKA Moscow            1\n",
       "PSV                        1\n",
       "Real Madrid                1\n",
       "Real Zaragoza              1\n",
       "Rio Ave FC                 1\n",
       "SL Benfica                 1\n",
       "SV Grödig                  1\n",
       "Sevilla FC                 1\n",
       "Suwon Samsung Bluewings    1\n",
       "Tours FC                   1\n",
       "Universidad de Chile       1\n",
       "Name: club_15, dtype: int64"
      ]
     },
     "execution_count": 10,
     "metadata": {},
     "output_type": "execute_result"
    }
   ],
   "source": [
    "clubs_16_with_improved_scores = player_15_16_joined_stayed_ovr_increased[\"club_16\"].count\n",
    "player_15_16_joined_stayed_ovr_increased.groupby(['club_16']).count()[\"club_15\"]\n",
    "\n",
    "# Here are the clubs which have shown improvement in the Overall rating of the player.\n",
    "\n",
    "\n"
   ]
  },
  {
   "cell_type": "code",
   "execution_count": 6,
   "metadata": {},
   "outputs": [],
   "source": [
    "def get_clubs_with_improved_overall_scores_year_over_year(year1_df, year2_df):\n",
    "    player_year_1_year_2_joined_stayed_df = year1_df.join(year2_df, lsuffix='_1', rsuffix='_2')\n",
    "    player_year_1_year_2_joined_stayed_df = player_year_1_year_2_joined_stayed_df[player_year_1_year_2_joined_stayed_df[\"club_1\"] == player_year_1_year_2_joined_stayed_df[\"club_2\"]]\n",
    "    # player_year_1_year_2_joined_stayed_df.shape\n",
    "    player_year_1_year_2_stayed_ovr_increased = player_year_1_year_2_joined_stayed_df[player_year_1_year_2_joined_stayed_df[\"overall_2\"] > player_year_1_year_2_joined_stayed_df[\"overall_1\"]]\n",
    "    print(player_year_1_year_2_stayed_ovr_increased.shape)\n",
    "    clubs_year2_with_improved_scores = player_year_1_year_2_stayed_ovr_increased.groupby(\"club_2\").count()\n",
    "    return clubs_year2_with_improved_scores[\"short_name_1\"]\n",
    "    "
   ]
  },
  {
   "cell_type": "code",
   "execution_count": 7,
   "metadata": {},
   "outputs": [
    {
     "name": "stdout",
     "output_type": "stream",
     "text": [
      "(34, 192)\n",
      "(63, 192)\n",
      "(16, 192)\n",
      "(12, 192)\n",
      "(8, 192)\n"
     ]
    }
   ],
   "source": [
    "year_15_16_clubs = get_clubs_with_improved_overall_scores_year_over_year(player15_cleaned_df, player16_cleaned_df)\n",
    "year_16_17_clubs = get_clubs_with_improved_overall_scores_year_over_year(player16_cleaned_df, player17_cleaned_df)\n",
    "year_17_18_clubs = get_clubs_with_improved_overall_scores_year_over_year(player17_cleaned_df, player18_cleaned_df)\n",
    "year_18_19_clubs = get_clubs_with_improved_overall_scores_year_over_year(player18_cleaned_df, player19_cleaned_df)\n",
    "year_19_20_clubs = get_clubs_with_improved_overall_scores_year_over_year(player19_cleaned_df, player20_cleaned_df)"
   ]
  },
  {
   "cell_type": "code",
   "execution_count": 8,
   "metadata": {},
   "outputs": [
    {
     "data": {
      "text/plain": [
       "club_2\n",
       "AD Alcorcón                1\n",
       "AFC Wimbledon              1\n",
       "Arsenal                    1\n",
       "Bayer 04 Leverkusen        1\n",
       "Celtic                     1\n",
       "Chelsea                    1\n",
       "Club Brugge KV             1\n",
       "Club Olimpo                1\n",
       "Clube Sport Marítimo       1\n",
       "Colo-Colo                  1\n",
       "FC Augsburg                1\n",
       "FC Barcelona               1\n",
       "FC Seoul                   1\n",
       "FK Haugesund               1\n",
       "Fiorentina                 1\n",
       "Fulham                     1\n",
       "Galatasaray SK             1\n",
       "Hannover 96                1\n",
       "KAA Gent                   1\n",
       "Lazio                      1\n",
       "Mersin İdman Yurdu         1\n",
       "Montpellier HSC            1\n",
       "Notts County               1\n",
       "PFC CSKA Moscow            1\n",
       "PSV                        1\n",
       "Real Madrid                1\n",
       "Real Zaragoza              1\n",
       "Rio Ave FC                 1\n",
       "SL Benfica                 1\n",
       "SV Grödig                  1\n",
       "Sevilla FC                 1\n",
       "Suwon Samsung Bluewings    1\n",
       "Tours FC                   1\n",
       "Universidad de Chile       1\n",
       "Name: short_name_1, dtype: int64"
      ]
     },
     "metadata": {},
     "output_type": "display_data"
    }
   ],
   "source": [
    "display(year_15_16_clubs)"
   ]
  },
  {
   "cell_type": "code",
   "execution_count": 13,
   "metadata": {},
   "outputs": [],
   "source": [
    "# Combining all the series\n",
    "series_list = [year_15_16_clubs, year_16_17_clubs, year_17_18_clubs, year_18_19_clubs, year_19_20_clubs]"
   ]
  },
  {
   "cell_type": "code",
   "execution_count": 14,
   "metadata": {},
   "outputs": [],
   "source": [
    "# Summing up the Counts\n",
    "top_clubs_overall_rating = pd.concat(series_list, axis=1, sort=False).sum(axis=1)"
   ]
  },
  {
   "cell_type": "code",
   "execution_count": 15,
   "metadata": {},
   "outputs": [
    {
     "name": "stdout",
     "output_type": "stream",
     "text": [
      "<class 'pandas.core.series.Series'>\n"
     ]
    }
   ],
   "source": [
    "# Top 10 Clubs\n",
    "print (type(top_clubs_overall_rating))"
   ]
  },
  {
   "cell_type": "code",
   "execution_count": 16,
   "metadata": {},
   "outputs": [
    {
     "data": {
      "text/plain": [
       "FC Barcelona            5.0\n",
       "Arsenal                 3.0\n",
       "Borussia Dortmund       3.0\n",
       "Paris Saint-Germain     3.0\n",
       "Celtic                  2.0\n",
       "Chelsea                 2.0\n",
       "Galatasaray SK          2.0\n",
       "PFC CSKA Moscow         2.0\n",
       "Real Madrid             2.0\n",
       "SL Benfica              2.0\n",
       "Sevilla FC              2.0\n",
       "Universidad de Chile    2.0\n",
       "Eintracht Frankfurt     2.0\n",
       "Everton                 2.0\n",
       "FC Bayern München       2.0\n",
       "Juventus                2.0\n",
       "Manchester City         2.0\n",
       "Tottenham Hotspur       2.0\n",
       "Villarreal CF           2.0\n",
       "Bristol Rovers          2.0\n",
       "dtype: float64"
      ]
     },
     "execution_count": 16,
     "metadata": {},
     "output_type": "execute_result"
    }
   ],
   "source": [
    "top_clubs_overall_rating.nlargest(20)"
   ]
  },
  {
   "cell_type": "code",
   "execution_count": null,
   "metadata": {},
   "outputs": [],
   "source": []
  }
 ],
 "metadata": {
  "kernelspec": {
   "display_name": "Python 3",
   "language": "python",
   "name": "python3"
  },
  "language_info": {
   "codemirror_mode": {
    "name": "ipython",
    "version": 3
   },
   "file_extension": ".py",
   "mimetype": "text/x-python",
   "name": "python",
   "nbconvert_exporter": "python",
   "pygments_lexer": "ipython3",
   "version": "3.8.3"
  }
 },
 "nbformat": 4,
 "nbformat_minor": 4
}
